{
 "cells": [
  {
   "cell_type": "markdown",
   "metadata": {},
   "source": [
    "# The numpy.random package"
   ]
  },
  {
   "cell_type": "markdown",
   "metadata": {},
   "source": [
    "### The following notebook will aim to discuss the following problem statements in relation to the numpy random package\n",
    "The following will aim to explain the use of the package, including detailed explanations of at least ﬁve of the distributions provided for in the package. There are four distinct tasks to be carried out in your Jupyter notebook. \n",
    "1. Explain the overall purpose of the package. \n",
    "2. Explain the use of the “Simple random data” and “Permutations” functions. \n",
    "3. Explain the use and purpose of at least ﬁve “Distributions” functions. \n",
    "4. Explain the use of seeds in generating pseudorandom numbers."
   ]
  },
  {
   "cell_type": "markdown",
   "metadata": {},
   "source": [
    "###### The usage of numpy.random\n",
    "Numpy.random is a separate package provided in Anaconda for python. It generates pseudo-random samples or arrays to be used in python if the user does not have a specific dataset to work with. Pseudo-random samples because if the algorithm is known it is possible to predict the next number in the sample [2]. There are many different functions within numpy.random.\n",
    "1. To create simple random data\n",
    "2. For permutations\n",
    "3. To work with distributions of data\n",
    "4. and the random generator functions. [1].\n"
   ]
  },
  {
   "cell_type": "markdown",
   "metadata": {},
   "source": [
    "###### 1. The overall purpose of the package\n",
    "The purpose of the package is to supplement \"the build in Python radom with functions for efficiently generating whole arrays of sample values from many kinds of probability distributions\" (Wes McKinney, 118) [2]. The package was designed to concentrate on modelling and simulating data and working with this pseudo-random numbers [3]."
   ]
  },
  {
   "cell_type": "markdown",
   "metadata": {},
   "source": [
    "###### 2. The use of simple random data and permutations"
   ]
  },
  {
   "cell_type": "markdown",
   "metadata": {},
   "source": [
    "###### Simple random data"
   ]
  },
  {
   "cell_type": "code",
   "execution_count": 3,
   "metadata": {},
   "outputs": [],
   "source": [
    "import numpy as np"
   ]
  },
  {
   "cell_type": "code",
   "execution_count": 4,
   "metadata": {},
   "outputs": [
    {
     "data": {
      "text/plain": [
       "array([[0.352617  , 0.22218183, 0.87579448, 0.21779286, 0.82592097,\n",
       "        0.42053581, 0.40092082],\n",
       "       [0.88587697, 0.55641898, 0.23518424, 0.4147141 , 0.59594676,\n",
       "        0.49001999, 0.70576877],\n",
       "       [0.338871  , 0.39302335, 0.22579861, 0.60030716, 0.76194374,\n",
       "        0.29456976, 0.20615698]])"
      ]
     },
     "execution_count": 4,
     "metadata": {},
     "output_type": "execute_result"
    }
   ],
   "source": [
    "np.random.rand(3,7)"
   ]
  },
  {
   "cell_type": "markdown",
   "metadata": {},
   "source": [
    "The rand function returns a uniform distribution between two numbers the first number is included in the distribution whereas the second is not (displayed in Maths as [3,7)(in the example above))"
   ]
  },
  {
   "cell_type": "code",
   "execution_count": 5,
   "metadata": {},
   "outputs": [],
   "source": [
    "x=np.random.rand(3,7)"
   ]
  },
  {
   "cell_type": "code",
   "execution_count": 7,
   "metadata": {},
   "outputs": [
    {
     "data": {
      "image/png": "[encoded data removed]",
      "text/plain": [
       "<Figure size 432x288 with 1 Axes>"
      ]
     },
     "metadata": {},
     "output_type": "display_data"
    }
   ],
   "source": [
    "import matplotlib.pyplot as plt\n",
    "\n",
    "plt.hist(x)\n",
    "plt.show()"
   ]
  },
  {
   "cell_type": "markdown",
   "metadata": {},
   "source": [
    "The above graph displays the randomly generated array with the np.random.rand function. While it shows that most numbers are equally as possible there are two spikes displayed above. The picture would change each time the function is run and also the resulting histogram."
   ]
  },
  {
   "cell_type": "code",
   "execution_count": 8,
   "metadata": {},
   "outputs": [
    {
     "data": {
      "text/plain": [
       "5"
      ]
     },
     "execution_count": 8,
     "metadata": {},
     "output_type": "execute_result"
    }
   ],
   "source": [
    "import numpy as np\n",
    "np.random.randint(3,6)"
   ]
  },
  {
   "cell_type": "code",
   "execution_count": 9,
   "metadata": {},
   "outputs": [
    {
     "name": "stderr",
     "output_type": "stream",
     "text": [
      "C:\\Users\\luisa\\Anaconda3\\lib\\site-packages\\ipykernel_launcher.py:1: DeprecationWarning: This function is deprecated. Please call randint(3, 6 + 1) instead\n",
      "  \"\"\"Entry point for launching an IPython kernel.\n"
     ]
    },
    {
     "data": {
      "text/plain": [
       "4"
      ]
     },
     "execution_count": 9,
     "metadata": {},
     "output_type": "execute_result"
    }
   ],
   "source": [
    "np.random.random_integers(3,6)"
   ]
  },
  {
   "cell_type": "markdown",
   "metadata": {},
   "source": [
    "According to the Python documentation the randint returns random integers from number a to b (exclusive) whereas the random_integers generates random integers between a and b (inclusive). The random_integers function seems to have been depreciated though. I leave this in since I found it quite interesting."
   ]
  },
  {
   "cell_type": "code",
   "execution_count": 11,
   "metadata": {},
   "outputs": [
    {
     "data": {
      "text/plain": [
       "array([0.70606627, 0.19035024, 0.66256949, 0.19092204, 0.8139928 ])"
      ]
     },
     "execution_count": 11,
     "metadata": {},
     "output_type": "execute_result"
    }
   ],
   "source": [
    "np.random.random_sample(5)"
   ]
  },
  {
   "cell_type": "code",
   "execution_count": 13,
   "metadata": {},
   "outputs": [
    {
     "data": {
      "image/png": "[encoded data removed]",
      "text/plain": [
       "<Figure size 432x288 with 1 Axes>"
      ]
     },
     "metadata": {},
     "output_type": "display_data"
    }
   ],
   "source": [
    "y=np.random.random_sample(5)\n",
    "import matplotlib.pyplot as plt\n",
    "plt.hist(y)\n",
    "plt.show()"
   ]
  },
  {
   "cell_type": "code",
   "execution_count": 14,
   "metadata": {},
   "outputs": [
    {
     "data": {
      "text/plain": [
       "array([0.52316047, 0.17798832, 0.54550488, 0.05354416, 0.97112532])"
      ]
     },
     "execution_count": 14,
     "metadata": {},
     "output_type": "execute_result"
    }
   ],
   "source": [
    "np.random.sample(5)"
   ]
  },
  {
   "cell_type": "code",
   "execution_count": 16,
   "metadata": {},
   "outputs": [
    {
     "data": {
      "image/png": "[encoded data removed]",
      "text/plain": [
       "<Figure size 432x288 with 1 Axes>"
      ]
     },
     "metadata": {},
     "output_type": "display_data"
    }
   ],
   "source": [
    "z=np.random.sample(5)\n",
    "import matplotlib.pyplot as plt\n",
    "plt.hist(z)\n",
    "plt.show()"
   ]
  },
  {
   "cell_type": "markdown",
   "metadata": {},
   "source": [
    "According to the documentation random_sample should \"return random floats in a half-open interval\" [1] but it only takes one argument (I got an error otherwise). Numpy.random.sample is giving the same definition and the documentation actually just refers to the random_sample explanation, they seem interchangeable."
   ]
  },
  {
   "cell_type": "markdown",
   "metadata": {},
   "source": [
    "###### Permutations"
   ]
  },
  {
   "cell_type": "code",
   "execution_count": 21,
   "metadata": {},
   "outputs": [
    {
     "data": {
      "text/plain": [
       "array([14,  8,  9,  3,  0, 16,  5,  4, 11,  6, 13, 12, 15,  7, 10, 19, 18,\n",
       "        1, 17,  2])"
      ]
     },
     "execution_count": 21,
     "metadata": {},
     "output_type": "execute_result"
    }
   ],
   "source": [
    "a = np.arange(20)\n",
    "np.random.shuffle(a)\n",
    "a"
   ]
  },
  {
   "cell_type": "markdown",
   "metadata": {},
   "source": [
    "The shuffle permutation does exactly what is expected. When a specific array is given in a specific range then the np.random.shuffle changes the sequence of the array, instead of the original sequence structure."
   ]
  },
  {
   "cell_type": "code",
   "execution_count": 2,
   "metadata": {},
   "outputs": [
    {
     "data": {
      "text/plain": [
       "array([5, 1, 0, 8, 3, 2, 7, 6, 4])"
      ]
     },
     "execution_count": 2,
     "metadata": {},
     "output_type": "execute_result"
    }
   ],
   "source": [
    "import numpy as np\n",
    "np.random.permutation(9)"
   ]
  },
  {
   "cell_type": "markdown",
   "metadata": {},
   "source": [
    "Using np.random.permutation generates a random sequence using the range of x, excluding x. It therefore saves a line of code compared to shuffle."
   ]
  },
  {
   "cell_type": "markdown",
   "metadata": {},
   "source": [
    "##### 3. Explain the Use and Purpose of at least five distributions"
   ]
  },
  {
   "cell_type": "code",
   "execution_count": 4,
   "metadata": {},
   "outputs": [
    {
     "data": {
      "text/plain": [
       "array([ 2.63817442, 11.34644756,  7.08851234,  3.72053107,  4.884527  ,\n",
       "        1.3473832 ,  6.9102684 ])"
      ]
     },
     "execution_count": 4,
     "metadata": {},
     "output_type": "execute_result"
    }
   ],
   "source": [
    "import numpy as np\n",
    "np.random.chisquare(5.2, 7)"
   ]
  },
  {
   "cell_type": "code",
   "execution_count": 6,
   "metadata": {},
   "outputs": [
    {
     "data": {
      "image/png": "[encoded data removed]",
      "text/plain": [
       "<Figure size 432x288 with 1 Axes>"
      ]
     },
     "metadata": {},
     "output_type": "display_data"
    }
   ],
   "source": [
    "b=np.random.chisquare(5.2, 7)\n",
    "import matplotlib.pyplot as plt\n",
    "plt.hist(b)\n",
    "plt.show()"
   ]
  },
  {
   "cell_type": "markdown",
   "metadata": {},
   "source": [
    "The distribution chisquare takes two arguments: the degrees of freedom (df) which is a float which should be bigger than 0 [1]. The second arguments is the size, which represents the output shape [1]. I have used 7 and therefore 7 output floats are generated. The result is calculated using the chisquare function, which is a hypothesis test from statistics which is used in statistics to find out whether the expected frequencies differ significantly from the observed frequencies [4]. So I would presume that if the distribution should be random then there should not be a significant difference for any particular result to occur."
   ]
  },
  {
   "cell_type": "code",
   "execution_count": 13,
   "metadata": {},
   "outputs": [
    {
     "data": {
      "text/plain": [
       "array([10.3030877 ,  2.6248695 ,  5.58399256,  1.04194227,  4.64494227,\n",
       "        4.36381644, 20.88295085, 32.77651907, 10.35425088,  2.72449976,\n",
       "       10.63611899,  3.03479354,  2.00127094])"
      ]
     },
     "execution_count": 13,
     "metadata": {},
     "output_type": "execute_result"
    }
   ],
   "source": [
    "import numpy as np\n",
    "np.random.exponential(9.5, 13)"
   ]
  },
  {
   "cell_type": "code",
   "execution_count": 16,
   "metadata": {},
   "outputs": [
    {
     "data": {
      "image/png": "[encoded data removed]",
      "text/plain": [
       "<Figure size 432x288 with 1 Axes>"
      ]
     },
     "metadata": {},
     "output_type": "display_data"
    }
   ],
   "source": [
    "c=np.random.exponential(9.5, 13)\n",
    "import matplotlib.pyplot as plt\n",
    "plt.hist(c)\n",
    "plt.show()"
   ]
  },
  {
   "cell_type": "markdown",
   "metadata": {},
   "source": [
    "The exponential distribution explains many common situations such as the time between page requests to Wikipedia [1]. An exponential distribution can be explained as points randomly located on a mathematical space [5]. Real world examples also include customer coming into a shop or phone calls to call centers [5]. The exponential distribution is strongly related to the Poisson distribution [6]."
   ]
  },
  {
   "cell_type": "code",
   "execution_count": 18,
   "metadata": {},
   "outputs": [
    {
     "data": {
      "text/plain": [
       "array([ 7.51832227,  3.41661999, 10.7126527 , 13.1831163 , -0.33142141,\n",
       "       -1.37565164,  8.84216706,  3.62324979,  3.36572816])"
      ]
     },
     "execution_count": 18,
     "metadata": {},
     "output_type": "execute_result"
    }
   ],
   "source": [
    "import numpy as np\n",
    "np.random.gumbel(3.4, 5.7, 9)"
   ]
  },
  {
   "cell_type": "code",
   "execution_count": 19,
   "metadata": {},
   "outputs": [
    {
     "data": {
      "text/plain": [
       "<function matplotlib.pyplot.show(*args, **kw)>"
      ]
     },
     "execution_count": 19,
     "metadata": {},
     "output_type": "execute_result"
    },
    {
     "data": {
      "image/png": "[encoded data removed]",
      "text/plain": [
       "<Figure size 432x288 with 1 Axes>"
      ]
     },
     "metadata": {},
     "output_type": "display_data"
    }
   ],
   "source": [
    "d=np.random.gumbel(3.4, 5.7, 9)\n",
    "import matplotlib.pyplot as plt\n",
    "plt.hist(d)\n",
    "plt.show"
   ]
  },
  {
   "cell_type": "markdown",
   "metadata": {},
   "source": [
    "The Gumbel distribution takes a specified location (3.4), a scale (5.7) and also a size (9) to draw samples from. The Gumbel distribution is one of several Generalised Extreme Value (GEV) distributions. It is used to make models for extreme value problems [1]. It is used for instance to draw models of the occurrence of flood events or rainfall rates [1]. It is a so-called \"fat-tailed\" distribution, which means that it is more likely that an event is in the tail of the dirstribution rather than the middle of it [1]."
   ]
  },
  {
   "cell_type": "code",
   "execution_count": 1,
   "metadata": {},
   "outputs": [
    {
     "data": {
      "text/plain": [
       "array([ 11.68890291,  -1.16164877,   4.91241555,   6.13441552,\n",
       "        23.46135874,   1.68406399,   5.42507252,  -4.30860106,\n",
       "        -0.73037405,  -2.97533829,  -0.61001177, -10.5812638 ,\n",
       "        20.80915081,  38.19211246,  -0.06170766,  12.02265065,\n",
       "        -2.04076554,   8.96488796,   1.41885558,  15.99727394])"
      ]
     },
     "execution_count": 1,
     "metadata": {},
     "output_type": "execute_result"
    }
   ],
   "source": [
    "import numpy as np\n",
    "np.random.laplace(4.5, 8.7, 20)"
   ]
  },
  {
   "cell_type": "code",
   "execution_count": 3,
   "metadata": {},
   "outputs": [
    {
     "data": {
      "image/png": "[encoded data removed]",
      "text/plain": [
       "<Figure size 432x288 with 1 Axes>"
      ]
     },
     "metadata": {},
     "output_type": "display_data"
    }
   ],
   "source": [
    "h=np.random.laplace(4.5, 8.7, 20)\n",
    "import matplotlib.pyplot as plt\n",
    "plt.plot(h)\n",
    "plt.show()"
   ]
  },
  {
   "cell_type": "markdown",
   "metadata": {},
   "source": [
    "The Laplace distribution is also called double exponential distribution with a specific location (4.5 in my example, also called mean) and a scale (8.7 which is also called decay) [1]. The Laplace distribution is comparable to the Gaussian distribution (also called normal distribution) but the Laplace distribution has fatter tails and a sharper peak [1].It shows the \"difference between two independent, identically distributed exponential random variables\" [1]. Applications are for instnace speech recognition or maximum one-day rainfalls per year [7]."
   ]
  },
  {
   "cell_type": "code",
   "execution_count": 5,
   "metadata": {},
   "outputs": [
    {
     "data": {
      "text/plain": [
       "array([0.65591019, 2.09296399, 1.55910088, 1.33467638, 3.27780038,\n",
       "       1.32651226, 2.29272046, 1.05455122, 1.98613033])"
      ]
     },
     "execution_count": 5,
     "metadata": {},
     "output_type": "execute_result"
    }
   ],
   "source": [
    "import numpy as np\n",
    "np.random.rayleigh(1.8, 9)"
   ]
  },
  {
   "cell_type": "code",
   "execution_count": 7,
   "metadata": {},
   "outputs": [
    {
     "data": {
      "image/png": "[encoded data removed]",
      "text/plain": [
       "<Figure size 432x288 with 1 Axes>"
      ]
     },
     "metadata": {},
     "output_type": "display_data"
    }
   ],
   "source": [
    "k=np.random.rayleigh(1.8, 9)\n",
    "import matplotlib.pyplot as plt\n",
    "plt.hist(k)\n",
    "plt.show()"
   ]
  },
  {
   "cell_type": "markdown",
   "metadata": {},
   "source": [
    "The Rayleigh distribution \"is a continuous probability distribution for positive-valued random variables\" [8]. Real-world examples are for instance wind velocity studied in two dimensions [8]. The background data of MRI images also show a Rayleigh distribution and it can be applied to nutrition [8]."
   ]
  },
  {
   "cell_type": "code",
   "execution_count": 13,
   "metadata": {},
   "outputs": [
    {
     "data": {
      "text/plain": [
       "array([-2.35732370e-01, -8.92487314e-01, -7.02350381e-01, -2.57881993e-01,\n",
       "       -8.32096671e-01, -8.01453585e-01, -8.51500948e-02, -2.91712091e-01,\n",
       "       -2.99791178e-01, -8.68939650e-01, -7.41741166e-01, -8.12621023e-01,\n",
       "       -4.39757801e-01, -8.95165546e-01, -5.13322342e-01, -1.84284479e-01,\n",
       "       -6.83874301e-01, -9.27591239e-01, -8.28698862e-01, -5.53211494e-01,\n",
       "       -9.90289849e-01, -4.89926033e-01, -9.29076941e-01, -5.61032364e-01,\n",
       "       -4.47954713e-01, -8.83838523e-02, -9.63733498e-01, -9.84194358e-01,\n",
       "       -2.42711028e-01, -1.63388246e-01, -7.94924265e-01, -7.00670342e-01,\n",
       "       -1.74502838e-01, -5.77122128e-01, -6.39902093e-01, -3.15269073e-01,\n",
       "       -3.04320095e-01, -2.93327310e-01, -4.49557410e-01, -9.20133705e-01,\n",
       "       -9.48810966e-01, -8.88738741e-01, -1.80097343e-01, -2.00844215e-01,\n",
       "       -3.38630507e-01, -1.42037725e-02, -5.30214734e-01, -1.45337666e-01,\n",
       "       -8.03551359e-01, -1.70418568e-01, -4.72752490e-01, -1.62623989e-01,\n",
       "       -6.67721665e-01, -7.77981913e-01, -3.90759429e-02, -2.87354125e-01,\n",
       "       -6.15586151e-01, -7.19480966e-01, -8.79454236e-01, -8.45476691e-01,\n",
       "       -4.38496291e-01, -3.59184484e-01, -4.97255476e-01, -6.59631280e-01,\n",
       "       -4.01432189e-01, -8.79900699e-01, -3.22946718e-01, -4.61532234e-01,\n",
       "       -6.71985588e-01, -6.41694853e-01, -2.00262432e-01, -6.88217509e-01,\n",
       "       -2.02983773e-01, -1.16503921e-01, -7.10776918e-01, -1.39961165e-01,\n",
       "       -5.16316266e-01, -9.34674160e-01, -6.28666550e-02, -1.65019226e-01,\n",
       "       -7.95693897e-01, -3.43349079e-01, -6.34588865e-01, -4.80524814e-01,\n",
       "       -3.63193202e-01, -1.05814190e-01, -6.99297660e-01, -8.91938988e-01,\n",
       "       -5.36633032e-01, -1.56492362e-01, -9.62492192e-01, -3.13536957e-01,\n",
       "       -9.87109849e-01, -9.46775253e-02, -5.85133165e-01, -3.16475935e-01,\n",
       "       -4.73887028e-01, -2.43954372e-01, -3.30676826e-01, -2.23836974e-01,\n",
       "       -1.00702791e-01, -4.54394564e-01, -5.16235238e-01, -3.97898158e-01,\n",
       "       -6.51423871e-01, -9.86372828e-01, -6.17638771e-01, -3.52356641e-01,\n",
       "       -2.45650619e-01, -4.98613314e-01, -8.83874851e-01, -4.05958656e-01,\n",
       "       -8.10288844e-01, -5.25279856e-01, -2.84681353e-01, -6.60089551e-01,\n",
       "       -4.21950579e-01, -2.03874857e-01, -1.03171359e-01, -1.98599399e-01,\n",
       "       -3.49412585e-01, -7.63698423e-01, -9.92283908e-01, -7.36936479e-01,\n",
       "       -2.02237922e-01, -9.63213014e-01, -4.49769701e-01, -4.97931584e-01,\n",
       "       -9.61196812e-01, -2.52862294e-01, -3.08567543e-01, -1.62539149e-01,\n",
       "       -6.09924057e-01, -4.68622315e-01, -6.46832764e-01, -9.47854628e-01,\n",
       "       -2.43452217e-01, -4.77107577e-01, -3.80153106e-01, -9.34350777e-01,\n",
       "       -7.82327813e-01, -5.13350901e-01, -5.84277147e-01, -5.91458646e-01,\n",
       "       -4.41511165e-01, -9.52134608e-01, -6.92381827e-02, -2.95581970e-01,\n",
       "       -6.29255134e-01, -2.88873066e-01, -4.27771018e-01, -5.38393245e-01,\n",
       "       -3.19056158e-01, -5.07281871e-01, -4.13945382e-01, -9.46315282e-01,\n",
       "       -6.29761501e-01, -4.33018572e-01, -7.53596713e-01, -2.13147954e-02,\n",
       "       -5.34803991e-01, -8.79921729e-01, -7.79831431e-01, -8.03102087e-01,\n",
       "       -1.03404670e-01, -5.78066009e-01, -9.16728626e-01, -4.06707994e-01,\n",
       "       -7.37341382e-01, -3.94453470e-01, -3.82205187e-01, -1.35189489e-01,\n",
       "       -1.38684093e-01, -9.58819489e-01, -2.37154114e-01, -7.15777828e-01,\n",
       "       -1.75612448e-01, -9.56402709e-01, -2.09941870e-01, -7.97600818e-01,\n",
       "       -7.41893839e-01, -3.61613845e-01, -6.80298464e-01, -4.35399714e-01,\n",
       "       -3.40966255e-01, -9.18899324e-01, -1.54806971e-01, -8.32100954e-01,\n",
       "       -4.85767537e-01, -5.36597994e-01, -3.85344741e-01, -7.57298577e-01,\n",
       "       -2.26398511e-02, -6.99213356e-01, -9.12491759e-01, -3.45190884e-01,\n",
       "       -3.78947742e-01, -8.15150330e-01, -2.58752188e-02, -3.75359618e-01,\n",
       "       -3.80567720e-01, -5.61667992e-01, -1.55325098e-01, -5.05405367e-03,\n",
       "       -1.49146517e-01, -6.65880820e-01, -9.44370195e-01, -4.42653015e-01,\n",
       "       -7.91845248e-01, -6.74412088e-01, -1.97660066e-01, -5.93808997e-01,\n",
       "       -8.54990149e-01, -3.83942032e-01, -8.58018240e-01, -8.59444874e-01,\n",
       "       -4.59255697e-01, -8.70079608e-01, -6.77744677e-01, -8.51194899e-01,\n",
       "       -5.39084570e-02, -9.62922840e-01, -6.44954897e-01, -7.10808133e-01,\n",
       "       -2.43492543e-01, -3.25284094e-01, -9.54850695e-01, -5.45293619e-01,\n",
       "       -3.71447701e-01, -9.55295085e-01, -7.25274800e-01, -1.00287053e-01,\n",
       "       -2.50030715e-01, -5.89383274e-01, -2.76775944e-01, -4.03318057e-01,\n",
       "       -4.32182368e-01, -5.10874957e-02, -8.08100266e-01, -7.93585091e-01,\n",
       "       -6.44717466e-01, -9.27561291e-02, -7.84445361e-01, -5.86231774e-01,\n",
       "       -2.69615336e-03, -5.48971265e-01, -2.54967583e-01, -7.78593574e-01,\n",
       "       -3.23800263e-01, -9.52317500e-01, -6.87232515e-01, -7.13360160e-01,\n",
       "       -4.78301223e-01, -1.31934959e-02, -4.52289010e-01, -9.99894936e-01,\n",
       "       -9.13511625e-01, -8.40723185e-02, -6.89893606e-01, -9.75830956e-01,\n",
       "       -5.38778699e-01, -2.00926446e-01, -4.53985927e-01, -1.00046032e-01,\n",
       "       -8.56992953e-01, -3.57625406e-01, -8.70131313e-02, -1.97730866e-01,\n",
       "       -6.37190328e-01, -4.80175316e-01, -1.43803954e-01, -1.88586016e-01,\n",
       "       -4.83503277e-01, -1.61925984e-01, -9.12070186e-02, -8.38702477e-01,\n",
       "       -6.02830306e-01, -1.74123803e-01, -9.13611401e-01, -4.33871879e-01,\n",
       "       -3.73293638e-01, -5.39939811e-01, -4.04468019e-01, -3.41326715e-01,\n",
       "       -1.80016244e-01, -9.24224536e-01, -5.54213495e-01, -2.94863198e-01,\n",
       "       -6.81851982e-01, -3.77543640e-01, -7.45395567e-02, -7.61473076e-02,\n",
       "       -2.12465302e-01, -8.04399736e-01, -3.00521819e-02, -1.76569318e-01,\n",
       "       -3.19438939e-01, -2.97764729e-01, -9.80223592e-01, -7.44798500e-01,\n",
       "       -6.20473455e-01, -4.36645668e-01, -6.66710275e-01, -6.51556312e-01,\n",
       "       -9.90362424e-01, -5.48470513e-01, -1.91757332e-01, -5.06596464e-01,\n",
       "       -1.29351630e-01, -1.65132997e-02, -9.96759031e-01, -4.56622106e-01,\n",
       "       -2.54831418e-01, -9.26926059e-01, -2.97269104e-01, -2.72417000e-01,\n",
       "       -5.93605343e-01, -2.26246256e-01, -8.47875713e-02, -2.51976970e-01,\n",
       "       -5.82046318e-01, -7.78274237e-01, -9.23405132e-01, -3.71507307e-01,\n",
       "       -8.18852261e-01, -8.59564959e-01, -6.20857943e-01, -3.96970194e-02,\n",
       "       -5.19567560e-01, -9.36585110e-01, -5.69625858e-01, -7.87347193e-01,\n",
       "       -6.85308336e-01, -3.61135455e-01, -4.24575196e-01, -4.49843452e-01,\n",
       "       -8.36077331e-01, -5.03209845e-01, -4.42976401e-01, -8.11044120e-01,\n",
       "       -2.62321655e-01, -2.25294742e-01, -8.84584434e-01, -3.69479807e-01,\n",
       "       -5.73397616e-01, -7.92505652e-01, -4.84519874e-01, -7.85384940e-01,\n",
       "       -1.34629447e-01, -5.81544552e-01, -1.57875383e-01, -8.96820349e-02,\n",
       "       -4.95958332e-01, -7.49528525e-02, -8.98255448e-01, -9.39954351e-01,\n",
       "       -4.23657417e-01, -1.06917107e-01, -5.65556477e-01, -6.19843465e-01,\n",
       "       -9.44954182e-02, -2.84588336e-01, -1.43640948e-01, -4.59686462e-01,\n",
       "       -3.35250617e-01, -8.74247091e-01, -3.32425530e-02, -2.92540108e-01,\n",
       "       -8.64028236e-01, -6.87157418e-01, -6.54023782e-01, -9.54974764e-01,\n",
       "       -8.62043826e-01, -7.99693415e-01, -9.81189782e-01, -1.85352815e-01,\n",
       "       -4.20042513e-01, -4.83363939e-01, -9.00480269e-01, -7.21434256e-01,\n",
       "       -5.98717131e-01, -3.97046390e-01, -7.79236687e-01, -6.47922189e-01,\n",
       "       -3.70780724e-01, -9.69613271e-01, -3.26555665e-01, -8.23667360e-01,\n",
       "       -2.17059447e-01, -8.99392532e-02, -8.70096747e-01, -8.05094198e-01,\n",
       "       -7.32547412e-01, -5.28228298e-01, -8.98842050e-01, -9.90149297e-01,\n",
       "       -7.92565866e-01, -3.74551824e-01, -6.97269814e-01, -9.39051747e-01,\n",
       "       -5.38861127e-01, -4.69155917e-01, -3.52840449e-01, -1.14749561e-01,\n",
       "       -9.68008489e-01, -2.74098121e-01, -5.18906605e-01, -1.40720783e-01,\n",
       "       -1.15134719e-01, -9.56474904e-01, -9.80894666e-01, -7.18143947e-01,\n",
       "       -9.90380719e-01, -4.65869838e-01, -2.33956946e-02, -6.00923505e-02,\n",
       "       -6.33023881e-01, -3.53519171e-01, -3.57914836e-01, -2.72428692e-01,\n",
       "       -9.55139050e-02, -3.44548833e-01, -7.86118452e-01, -4.34028692e-01,\n",
       "       -6.32111856e-01, -8.41388568e-01, -3.70960675e-01, -4.14691812e-04,\n",
       "       -9.02505607e-01, -6.17338704e-01, -1.43927931e-01, -4.52052400e-01,\n",
       "       -5.15806890e-01, -6.01212032e-01, -5.79013941e-02, -4.41434680e-01,\n",
       "       -3.44214259e-01, -2.02147850e-01, -3.44525712e-01, -7.94079795e-01,\n",
       "       -3.50242754e-01, -3.95301636e-01, -8.14264888e-01, -7.88288710e-01,\n",
       "       -8.88571127e-01, -9.07875338e-01, -4.74507941e-02, -4.92744908e-01,\n",
       "       -7.21607672e-01, -7.55927692e-01, -6.18923378e-01, -6.61382345e-01,\n",
       "       -8.23112026e-01, -6.37980227e-01, -9.50908251e-01, -1.60414926e-02,\n",
       "       -1.59146506e-01, -5.31342468e-01, -4.30697786e-01, -6.81897131e-01,\n",
       "       -1.21991938e-01, -4.12687065e-01, -4.02732763e-01, -8.75908844e-01,\n",
       "       -9.97717935e-01, -3.59149981e-01, -6.05854570e-01, -5.72697342e-01,\n",
       "       -1.79587733e-01, -1.36851260e-02, -9.70392069e-02, -2.57687515e-01,\n",
       "       -3.00240480e-01, -5.93001764e-01, -4.89304605e-01, -6.64226801e-01,\n",
       "       -7.36950526e-01, -2.88197810e-01, -3.45497592e-01, -1.29435839e-01,\n",
       "       -7.89899420e-02, -4.80564323e-01, -8.04433588e-01, -6.82343864e-01,\n",
       "       -3.37014785e-01, -2.11019968e-01, -1.89084218e-01, -2.90489175e-01,\n",
       "       -4.97571972e-01, -4.57149329e-01, -8.53217260e-01, -9.88315867e-01,\n",
       "       -7.49704959e-03, -6.40738927e-01, -8.11764251e-01, -1.14309660e-01,\n",
       "       -7.46726141e-01, -6.28498360e-01, -7.97312205e-01, -6.28845297e-01,\n",
       "       -5.30968900e-01, -7.01707291e-01, -6.25339348e-01, -4.56254100e-02,\n",
       "       -3.73983365e-01, -9.02098323e-01, -2.72415069e-01, -8.69903253e-02,\n",
       "       -8.36305715e-01, -8.03085604e-01, -5.62026169e-01, -5.68468076e-01,\n",
       "       -8.82615266e-01, -1.05498118e-01, -8.59565483e-01, -5.22751608e-01,\n",
       "       -2.42955636e-01, -6.49008099e-01, -6.11067045e-01, -8.27908348e-01,\n",
       "       -4.32100852e-01, -3.78871105e-01, -3.60429178e-01, -6.18550734e-01,\n",
       "       -8.67863000e-01, -5.25974688e-01, -1.76181275e-01, -8.81432634e-01,\n",
       "       -5.15821397e-01, -4.35844842e-01, -8.46394694e-01, -7.09249180e-01,\n",
       "       -4.70375378e-01, -2.57145583e-01, -2.91052686e-02, -8.63430084e-01,\n",
       "       -7.82668316e-02, -1.55163561e-01, -2.81836825e-01, -7.10751698e-01,\n",
       "       -6.85861194e-01, -2.61321139e-01, -3.22792853e-01, -5.90252944e-01,\n",
       "       -3.59848233e-01, -9.78686996e-01, -6.87773911e-01, -9.29734853e-01,\n",
       "       -1.37002732e-01, -8.25291914e-02, -4.77855318e-01, -8.83796436e-01,\n",
       "       -3.85113386e-02, -8.34858917e-03, -9.12933924e-01, -7.16088574e-01,\n",
       "       -4.52070243e-01, -5.06016971e-01, -5.25491784e-01, -4.72027907e-01,\n",
       "       -6.80662501e-02, -8.27520435e-01, -3.12190826e-01, -2.81749078e-02,\n",
       "       -8.25248043e-01, -1.66108130e-01, -4.07170425e-01, -3.89952162e-01,\n",
       "       -5.02954935e-02, -3.71970265e-01, -4.73550931e-01, -7.36335958e-01,\n",
       "       -1.08159026e-01, -6.46390785e-01, -7.61928833e-01, -7.16322519e-01,\n",
       "       -1.89792705e-01, -1.59971392e-03, -3.91690328e-01, -4.34675781e-01,\n",
       "       -5.50193795e-01, -4.37208171e-01, -7.63080718e-01, -7.77273952e-01,\n",
       "       -6.57471629e-01, -5.34123096e-01, -3.45990301e-01, -8.77061986e-01,\n",
       "       -3.79555479e-02, -6.17942704e-01, -8.47157618e-01, -2.92654972e-01,\n",
       "       -8.91962059e-01, -2.26779707e-01, -9.77088153e-01, -7.03551501e-01,\n",
       "       -1.35490347e-01, -4.00412780e-01, -4.87690319e-01, -3.43691966e-01,\n",
       "       -2.24793582e-01, -5.85851782e-01, -4.16213571e-01, -7.17795075e-01,\n",
       "       -3.14216505e-01, -2.17292744e-01, -5.62415031e-01, -8.18014280e-01,\n",
       "       -3.72187241e-01, -2.84383222e-03, -5.25461134e-01, -3.24086214e-01,\n",
       "       -3.21471686e-01, -2.60753892e-01, -1.44866628e-01, -1.18914645e-01,\n",
       "       -6.70269750e-01, -3.26419116e-01, -5.54026926e-01, -5.99629120e-01,\n",
       "       -3.50286824e-01, -3.54101314e-01, -6.10848235e-01, -6.58418388e-01,\n",
       "       -8.22138874e-01, -3.78483374e-01, -7.90264035e-01, -8.94948984e-01,\n",
       "       -7.11712747e-01, -2.31978610e-01, -6.17920361e-01, -8.62503623e-01,\n",
       "       -6.54054653e-01, -5.00828822e-01, -6.68612897e-01, -6.68306134e-01,\n",
       "       -5.01797506e-01, -3.41589251e-01, -4.00342062e-01, -4.42182023e-01,\n",
       "       -1.45239263e-01, -8.45656735e-01, -5.91056391e-01, -2.06682715e-01,\n",
       "       -8.15220143e-01, -8.64046093e-03, -2.58832977e-01, -6.20057265e-01,\n",
       "       -9.65108604e-01, -1.48083767e-01, -1.53999157e-01, -7.18718133e-01,\n",
       "       -3.54890797e-01, -2.51376471e-01, -8.46881826e-01, -5.22208938e-01,\n",
       "       -1.00017152e-01, -6.33221300e-01, -8.33174956e-01, -1.34079764e-01,\n",
       "       -6.72267371e-01, -5.59001418e-01, -8.34581634e-01, -8.00693377e-01,\n",
       "       -9.93669633e-01, -7.17356136e-01, -5.60097233e-01, -5.27985047e-01,\n",
       "       -8.75061195e-01, -7.51995637e-01, -2.23841055e-01, -9.84258893e-01,\n",
       "       -5.66285861e-01, -7.89073189e-01, -9.75761094e-01, -9.56204550e-01,\n",
       "       -3.74558974e-01, -7.83779426e-01, -9.75618578e-01, -3.73979740e-01,\n",
       "       -8.18178658e-01, -8.02005557e-01, -6.15142998e-01, -7.53998562e-01,\n",
       "       -7.94816888e-01, -4.71806990e-01, -6.01085505e-03, -1.23476211e-01,\n",
       "       -6.75491367e-01, -4.04338466e-01, -7.79100023e-01, -2.70991086e-01,\n",
       "       -4.56275499e-01, -2.22492587e-01, -4.46644512e-01, -6.26046927e-01,\n",
       "       -1.85743884e-01, -4.66033181e-01, -9.90963108e-01, -7.95504762e-02,\n",
       "       -5.13747418e-01, -5.06054954e-01, -6.42987722e-01, -9.35387184e-01,\n",
       "       -5.22043533e-01, -4.04353142e-01, -4.76928679e-01, -1.95020637e-01,\n",
       "       -1.64856811e-01, -1.28403634e-01, -9.63366863e-01, -6.50832720e-01,\n",
       "       -2.21445808e-01, -8.01676864e-01, -8.88637864e-01, -5.08681125e-01,\n",
       "       -3.92394752e-01, -1.59953207e-01, -7.24946931e-01, -7.33206649e-01,\n",
       "       -8.38584871e-01, -8.99966842e-01, -3.96482393e-01, -5.05866889e-01,\n",
       "       -7.81826074e-02, -6.00333122e-01, -4.74800101e-01, -1.52030444e-01,\n",
       "       -9.37401410e-01, -6.62414119e-01, -9.61915162e-01, -6.73163349e-01,\n",
       "       -4.14988293e-01, -3.00398224e-01, -6.90057162e-01, -4.07999905e-01,\n",
       "       -6.38943196e-01, -9.51754536e-01, -9.50309986e-01, -9.60438337e-01,\n",
       "       -9.84927534e-01, -9.42925055e-01, -9.96160598e-01, -2.17077638e-01,\n",
       "       -6.31663986e-01, -2.45276936e-01, -1.51747426e-01, -9.88766043e-01,\n",
       "       -2.07815106e-01, -4.25329745e-01, -8.68456659e-01, -3.11751775e-01,\n",
       "       -4.41736841e-01, -7.83339253e-01, -6.78510681e-01, -9.44798176e-01,\n",
       "       -2.98268544e-01, -5.01863459e-01, -3.39717302e-01, -6.29287388e-01,\n",
       "       -7.57677381e-01, -7.75746280e-01, -9.39274334e-01, -8.60458067e-01,\n",
       "       -3.16036256e-01, -2.93931959e-02, -3.15006038e-01, -3.41810909e-01,\n",
       "       -4.23210344e-01, -3.62945601e-01, -8.76146840e-01, -7.42147610e-01,\n",
       "       -6.68739235e-01, -1.60193274e-01, -2.21804005e-02, -6.39852634e-01,\n",
       "       -1.50211363e-01, -9.83308922e-01, -3.67172850e-01, -5.15852876e-01,\n",
       "       -5.60001358e-01, -2.85399185e-01, -9.79755433e-01, -7.82048525e-01,\n",
       "       -5.30826929e-01, -5.65717189e-01, -8.01273815e-01, -4.30763683e-01,\n",
       "       -9.59546745e-01, -7.13333533e-01, -2.13647571e-01, -9.88157239e-01,\n",
       "       -2.17637079e-01, -8.02601651e-01, -1.45968381e-01, -5.42112154e-01,\n",
       "       -4.58161180e-02, -5.09009380e-01, -8.32027176e-01, -8.44152509e-01,\n",
       "       -1.03540727e-01, -9.45846859e-01, -7.31964028e-01, -9.01651848e-01,\n",
       "       -5.08392717e-02, -3.51348012e-01, -1.16321594e-01, -9.92851335e-01,\n",
       "       -1.89214392e-02, -8.53545520e-02, -6.77122160e-01, -4.36471377e-01,\n",
       "       -6.43850027e-02, -6.18961230e-01, -5.98682411e-01, -2.35473452e-01,\n",
       "       -9.70644836e-01, -5.39466149e-01, -1.10784276e-01, -1.10006140e-01,\n",
       "       -3.09923706e-01, -5.82713249e-01, -8.51581196e-01, -8.81947287e-01,\n",
       "       -2.22944039e-02, -9.62104862e-01, -2.35265438e-01, -2.15273561e-01,\n",
       "       -6.58330840e-01, -6.74380228e-01, -4.41616226e-01, -6.18006298e-01,\n",
       "       -2.74124577e-01, -2.43111367e-01, -6.72118554e-02, -6.38779465e-01,\n",
       "       -3.23531337e-01, -3.03357413e-01, -4.44863950e-01, -4.52765268e-01,\n",
       "       -8.99241090e-01, -3.60065196e-01, -1.33566818e-01, -4.04682121e-01,\n",
       "       -8.21120671e-01, -7.06621583e-01, -7.24213889e-01, -7.66511483e-02,\n",
       "       -9.23783870e-01, -4.29848776e-01, -4.22258377e-01, -5.61004976e-01,\n",
       "       -9.56615810e-01, -7.76229488e-02, -1.02470244e-03, -3.44037430e-01,\n",
       "       -6.03474461e-01, -2.89159784e-01, -1.24590065e-01, -9.71796161e-01,\n",
       "       -2.21993572e-01, -8.42298982e-01, -2.29981489e-01, -9.28443598e-01,\n",
       "       -8.53791629e-01, -2.89398182e-01, -5.80651027e-01, -5.77874904e-02,\n",
       "       -5.17499407e-01, -2.03908118e-01, -2.02706959e-02, -7.79821257e-01,\n",
       "       -6.47239952e-01, -2.24556033e-01, -5.91877737e-01, -3.11612853e-02,\n",
       "       -2.53201029e-01, -2.28336387e-01, -8.29761116e-02, -3.47962678e-01,\n",
       "       -6.70780275e-01, -6.39532815e-01, -7.22904986e-01, -2.46258974e-01,\n",
       "       -4.36663193e-01, -3.00287823e-01, -8.33247393e-01, -6.39945111e-01,\n",
       "       -6.54709505e-01, -2.08300805e-01, -2.31719312e-01, -2.65972930e-01,\n",
       "       -3.32032906e-01, -2.67892811e-01, -2.81663518e-01, -4.05395243e-01,\n",
       "       -5.66014035e-01, -6.36316583e-01, -7.26266691e-01, -8.53788667e-01,\n",
       "       -8.78662553e-01, -9.28738454e-01, -2.15157066e-02, -6.89992167e-01,\n",
       "       -8.82854361e-01, -9.17958734e-02, -6.83643302e-01, -8.08695550e-01,\n",
       "       -1.01463868e-01, -3.15284562e-01, -9.72753774e-01, -8.35614474e-01,\n",
       "       -9.79047958e-01, -9.46579666e-04, -1.87886832e-01, -1.03588238e-01,\n",
       "       -9.68107494e-01, -7.48905040e-01, -6.06663432e-01, -7.64511411e-01,\n",
       "       -1.15696722e-02, -7.09419222e-01, -5.25404486e-01, -1.95053872e-01,\n",
       "       -5.68454596e-01, -8.11749357e-01, -2.51230114e-01, -5.72771039e-01,\n",
       "       -4.95131053e-01, -9.78651594e-01, -3.25020000e-01, -9.99420560e-01,\n",
       "       -2.95006987e-01, -6.22479442e-01, -9.51345431e-01, -2.91564479e-04,\n",
       "       -8.68886380e-01, -5.43257802e-01, -5.37545908e-01, -4.26693837e-02,\n",
       "       -2.96236618e-01, -2.95867648e-01, -9.04806396e-01, -5.29900238e-01,\n",
       "       -3.08687787e-01, -3.54256773e-01, -8.63415250e-01, -2.85730505e-01,\n",
       "       -2.41893188e-01, -2.36645756e-01, -3.67748546e-01, -7.49736977e-01,\n",
       "       -2.27119080e-01, -5.37363859e-01, -7.19384319e-01, -7.34236800e-01,\n",
       "       -5.36709957e-01, -7.23910998e-02, -1.82450047e-01, -6.87972660e-01,\n",
       "       -4.72622469e-01, -4.49221003e-01, -5.49835346e-01, -3.31785955e-01,\n",
       "       -7.47932133e-01, -7.25555285e-01, -1.84410574e-01, -3.70386196e-01,\n",
       "       -8.82595970e-01, -4.63275782e-01, -4.24170622e-01, -1.89813859e-01,\n",
       "       -8.15477908e-01, -4.55348430e-01, -8.60106686e-01, -1.36622096e-01,\n",
       "       -9.47492758e-01, -1.04777003e-01, -4.52067047e-01, -8.26440072e-01,\n",
       "       -7.25520908e-01, -6.92761797e-01, -7.03784929e-02, -8.25628654e-01,\n",
       "       -5.67516710e-01, -3.86066019e-01, -1.54281213e-01, -6.20006306e-01,\n",
       "       -4.42409033e-01, -6.59082291e-01, -5.21633923e-02, -9.31758561e-01,\n",
       "       -3.20840124e-01, -9.01861227e-01, -5.26103579e-01, -6.71395905e-02,\n",
       "       -2.37153152e-01, -3.12654785e-01, -1.82074151e-01, -9.45022446e-01])"
      ]
     },
     "execution_count": 13,
     "metadata": {},
     "output_type": "execute_result"
    }
   ],
   "source": [
    "np.random.uniform(-1,0,1000)"
   ]
  },
  {
   "cell_type": "code",
   "execution_count": 15,
   "metadata": {},
   "outputs": [
    {
     "data": {
      "text/plain": [
       "array([ 0.79972427, -1.01949487, -0.3658524 , ...,  0.1936531 ,\n",
       "        1.65578518, -0.59380151])"
      ]
     },
     "execution_count": 15,
     "metadata": {},
     "output_type": "execute_result"
    }
   ],
   "source": [
    "s = np.random.normal(0.0,1,10000)"
   ]
  },
  {
   "cell_type": "code",
   "execution_count": 16,
   "metadata": {},
   "outputs": [
    {
     "data": {
      "text/plain": [
       "(array([100.,  93.,  91., 102.,  88.,  93., 101.,  91., 117., 124.]),\n",
       " array([-9.99954436e-01, -9.00036277e-01, -8.00118118e-01, -7.00199959e-01,\n",
       "        -6.00281801e-01, -5.00363642e-01, -4.00445483e-01, -3.00527324e-01,\n",
       "        -2.00609165e-01, -1.00691006e-01, -7.72847070e-04]),\n",
       " <a list of 10 Patch objects>)"
      ]
     },
     "execution_count": 16,
     "metadata": {},
     "output_type": "execute_result"
    },
    {
     "data": {
      "image/png": "[encoded data removed]",
      "text/plain": [
       "<Figure size 432x288 with 1 Axes>"
      ]
     },
     "metadata": {},
     "output_type": "display_data"
    }
   ],
   "source": [
    "plt.hist(s)"
   ]
  },
  {
   "cell_type": "markdown",
   "metadata": {},
   "source": [
    "The continuous uniform distribution also referred to as rectangular distribution is a distribution with a constant probability [9]. This distribution is specifically useful for the generation of pseudo-random numbers to simulate experiments [9]."
   ]
  },
  {
   "cell_type": "code",
   "execution_count": 8,
   "metadata": {},
   "outputs": [
    {
     "data": {
      "text/plain": [
       "array([5.88395189e+01, 3.84692163e-01, 7.03391563e-01, 9.74054280e-02,\n",
       "       7.61197833e-02, 9.33221192e-01, 1.32670002e-01, 4.40940074e+01,\n",
       "       1.70158491e-01, 1.83908707e-01, 4.46629989e-01, 7.10321293e-01,\n",
       "       2.18243899e+00, 4.75299135e-01, 1.68352853e+00, 3.49001717e-01,\n",
       "       7.29398936e-01, 1.16354108e+00, 1.72790221e+00, 6.84388099e+00,\n",
       "       3.50738516e-01, 8.61062925e-01, 2.97075563e-02, 3.57224511e-01,\n",
       "       9.84543496e-01, 2.27484041e+00, 4.05196782e-01, 3.96105554e+00,\n",
       "       2.20939081e-01, 6.74043224e-01])"
      ]
     },
     "execution_count": 8,
     "metadata": {},
     "output_type": "execute_result"
    }
   ],
   "source": [
    "import numpy as np\n",
    "np.random.wald(4.1, 0.3, 30)"
   ]
  },
  {
   "cell_type": "code",
   "execution_count": 9,
   "metadata": {},
   "outputs": [
    {
     "data": {
      "image/png": "[encoded data removed]",
      "text/plain": [
       "<Figure size 432x288 with 1 Axes>"
      ]
     },
     "metadata": {},
     "output_type": "display_data"
    }
   ],
   "source": [
    "j=np.random.wald(4.1, 0.3, 30)\n",
    "import matplotlib.pyplot as plt\n",
    "plt.plot(j)\n",
    "plt.show()"
   ]
  },
  {
   "cell_type": "markdown",
   "metadata": {},
   "source": [
    "The Wald distribution is also called inverse Gaussian distribution [1]. The distribution becomes more like the Gaussian once the scale approaches infinity [1]."
   ]
  },
  {
   "cell_type": "markdown",
   "metadata": {},
   "source": [
    "#### 4. The seed method"
   ]
  },
  {
   "cell_type": "code",
   "execution_count": 2,
   "metadata": {},
   "outputs": [
    {
     "data": {
      "text/plain": [
       "<mtrand.RandomState at 0x1df4fee2798>"
      ]
     },
     "execution_count": 2,
     "metadata": {},
     "output_type": "execute_result"
    }
   ],
   "source": [
    "import numpy as np\n",
    "np.random.RandomState(4)"
   ]
  },
  {
   "cell_type": "code",
   "execution_count": 3,
   "metadata": {},
   "outputs": [
    {
     "data": {
      "text/plain": [
       "<mtrand.RandomState at 0x1df4fee29d8>"
      ]
     },
     "execution_count": 3,
     "metadata": {},
     "output_type": "execute_result"
    }
   ],
   "source": [
    "np.random.RandomState(seed=4)"
   ]
  },
  {
   "cell_type": "code",
   "execution_count": 9,
   "metadata": {},
   "outputs": [],
   "source": [
    "np.random.seed(4)"
   ]
  },
  {
   "cell_type": "markdown",
   "metadata": {},
   "source": [
    "The seed methd \"is called when RandomState is initialised\" and it can be called again if the generator needs to be re-seeded [1]. The RandomState is a \"container for the Mersenne Twister pseudo-random number generator\" [1]. Using this container exposes several methods of how to generate random numbers in a variety of probability distributions [1]."
   ]
  },
  {
   "cell_type": "markdown",
   "metadata": {},
   "source": [
    "Using a good choice of random seed is especially important in the field of computer security [10]. The seed method performs an operation on a specific value [11]. Usually this number would be the last number generated [11]. The pseudo-random number generator usually seeds a value that will change each time the program is executed [11]. The method when started causes the generator to start at an arbitrary point in the random sequence [12]"
   ]
  },
  {
   "cell_type": "markdown",
   "metadata": {},
   "source": [
    "###### References:\n",
    "[1] https://docs.scipy.org/doc/numpy-1.15.1/reference/routines.random.html\n",
    "\n",
    "[2] McKinney, Wes. Python for Data Analysis. Data Wrangling with Pandas, Numpy, and iPython, O'Reilly, 2017.\n",
    "\n",
    "[3] Klein, Bernd. Python, Random Numbers and Probability, 2011-2018.\n",
    "https://www.python-course.eu/python_numpy_probability.php\n",
    "\n",
    "[4] Chi squared test in statisitcs https://en.wikipedia.org/wiki/Chi-squared_test\n",
    "\n",
    "[5] Exponential distribution https://en.wikipedia.org/wiki/Exponential_distribution\n",
    "\n",
    "[6] Exponential distribution / Negative Exponential: Definition. Examples\n",
    "https://www.statisticshowto.datasciencecentral.com/exponential-distribution/\n",
    "\n",
    "[7] Laplace distribution\n",
    "https://en.wikipedia.org/wiki/Laplace_distribution#Applications\n",
    "\n",
    "[8] Rayleigh distribution\n",
    "https://en.wikipedia.org/wiki/Rayleigh_distribution#Applications\n",
    "\n",
    "[9] Uniform distribution (continuous)\n",
    "https://en.wikipedia.org/wiki/Uniform_distribution_(continuous)#Uniformity\n",
    "\n",
    "[10] Random Seed\n",
    "https://en.wikipedia.org/wiki/Random_seed\n",
    "\n",
    "[11] Stack overflow explanation of the seed generator\n",
    "https://stackoverflow.com/questions/22639587/random-seed-what-does-it-do\n",
    "\n",
    "[12] Random Seed\n",
    "https://www.arduino.cc/reference/en/language/functions/random-numbers/randomseed/"
   ]
  },
  {
   "cell_type": "code",
   "execution_count": null,
   "metadata": {},
   "outputs": [],
   "source": []
  }
 ],
 "metadata": {
  "kernelspec": {
   "display_name": "Python 3",
   "language": "python",
   "name": "python3"
  },
  "language_info": {
   "codemirror_mode": {
    "name": "ipython",
    "version": 3
   },
   "file_extension": ".py",
   "mimetype": "text/x-python",
   "name": "python",
   "nbconvert_exporter": "python",
   "pygments_lexer": "ipython3",
   "version": "3.6.5"
  }
 },
 "nbformat": 4,
 "nbformat_minor": 2
}
