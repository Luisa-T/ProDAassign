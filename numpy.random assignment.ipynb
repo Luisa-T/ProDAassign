{
 "cells": [
  {
   "cell_type": "markdown",
   "metadata": {},
   "source": [
    "# The numpy.random package"
   ]
  },
  {
   "cell_type": "markdown",
   "metadata": {},
   "source": [
    "### The following notebook will aim to discuss the following problem statements in relation to the numpy random package\n",
    "The following will aim to explain the use of the package, including detailed explanations of at least ﬁve of the distributions provided for in the package. There are four distinct tasks to be carried out in your Jupyter notebook. \n",
    "1. Explain the overall purpose of the package. \n",
    "2. Explain the use of the “Simple random data” and “Permutations” functions. \n",
    "3. Explain the use and purpose of at least ﬁve “Distributions” functions. \n",
    "4. Explain the use of seeds in generating pseudorandom numbers."
   ]
  },
  {
   "cell_type": "markdown",
   "metadata": {},
   "source": [
    "###### The usage of numpy.random\n",
    "Numpy.random is a separate package provided in Anaconda for Python. It generates pseudo-random samples or arrays to be used in python if the user does not have a specific dataset to work with. Pseudo-random samples because if the algorithm is known it is possible to predict the next number in the sample [2]. There are many different functions within numpy.random which fall into the following four categories:\n",
    "1. To create simple random data\n",
    "2. For permutations\n",
    "3. To work with distributions of data\n",
    "4. and the random generator functions. [1].\n"
   ]
  },
  {
   "cell_type": "markdown",
   "metadata": {},
   "source": [
    "###### 1. The overall purpose of the package\n",
    "The purpose of the package is to supplement \"the build in Python radom with functions for efficiently generating whole arrays of sample values from many kinds of probability distributions\" (Wes McKinney, 118) [2]. The package was designed to concentrate on modelling and simulating data and working with these pseudo-random numbers [3]. The function used depends on what kind of data is needed for the investigation at hand."
   ]
  },
  {
   "cell_type": "markdown",
   "metadata": {},
   "source": [
    "###### 2. The use of simple random data and permutations"
   ]
  },
  {
   "cell_type": "markdown",
   "metadata": {},
   "source": [
    "###### Simple random data"
   ]
  },
  {
   "cell_type": "code",
   "execution_count": 3,
   "metadata": {},
   "outputs": [],
   "source": [
    "import numpy as np"
   ]
  },
  {
   "cell_type": "code",
   "execution_count": 4,
   "metadata": {},
   "outputs": [
    {
     "data": {
      "text/plain": [
       "array([[0.352617  , 0.22218183, 0.87579448, 0.21779286, 0.82592097,\n",
       "        0.42053581, 0.40092082],\n",
       "       [0.88587697, 0.55641898, 0.23518424, 0.4147141 , 0.59594676,\n",
       "        0.49001999, 0.70576877],\n",
       "       [0.338871  , 0.39302335, 0.22579861, 0.60030716, 0.76194374,\n",
       "        0.29456976, 0.20615698]])"
      ]
     },
     "execution_count": 4,
     "metadata": {},
     "output_type": "execute_result"
    }
   ],
   "source": [
    "np.random.rand(3,7)"
   ]
  },
  {
   "cell_type": "markdown",
   "metadata": {},
   "source": [
    "The rand function returns a uniform distribution between two numbers the first number is included in the distribution whereas the second is not (displayed in Maths as [3,7)(in the example above) [1]."
   ]
  },
  {
   "cell_type": "code",
   "execution_count": 5,
   "metadata": {},
   "outputs": [],
   "source": [
    "x=np.random.rand(3,7)"
   ]
  },
  {
   "cell_type": "code",
   "execution_count": 7,
   "metadata": {},
   "outputs": [
    {
     "data": {
      "image/png": "[encoded data removed]",
      "text/plain": [
       "<Figure size 432x288 with 1 Axes>"
      ]
     },
     "metadata": {},
     "output_type": "display_data"
    }
   ],
   "source": [
    "import matplotlib.pyplot as plt\n",
    "\n",
    "plt.hist(x)\n",
    "plt.show()"
   ]
  },
  {
   "cell_type": "markdown",
   "metadata": {},
   "source": [
    "The above histogram displays the randomly generated array with the np.random.rand function. While it shows that most numbers are equally as possible there are two spikes displayed above. The picture would change each time the function is run and also the resulting histogram."
   ]
  },
  {
   "cell_type": "code",
   "execution_count": 8,
   "metadata": {},
   "outputs": [
    {
     "data": {
      "text/plain": [
       "5"
      ]
     },
     "execution_count": 8,
     "metadata": {},
     "output_type": "execute_result"
    }
   ],
   "source": [
    "import numpy as np\n",
    "np.random.randint(3,6)"
   ]
  },
  {
   "cell_type": "code",
   "execution_count": 9,
   "metadata": {},
   "outputs": [
    {
     "name": "stderr",
     "output_type": "stream",
     "text": [
      "C:\\Users\\luisa\\Anaconda3\\lib\\site-packages\\ipykernel_launcher.py:1: DeprecationWarning: This function is deprecated. Please call randint(3, 6 + 1) instead\n",
      "  \"\"\"Entry point for launching an IPython kernel.\n"
     ]
    },
    {
     "data": {
      "text/plain": [
       "4"
      ]
     },
     "execution_count": 9,
     "metadata": {},
     "output_type": "execute_result"
    }
   ],
   "source": [
    "np.random.random_integers(3,6)"
   ]
  },
  {
   "cell_type": "markdown",
   "metadata": {},
   "source": [
    "According to the Python documentation the randint returns random integers from number a to b (exclusive) whereas the random_integers function generates random integers between a and b (inclusive). The random_integers function seems to have been depreciated though. I leave this in since I found it quite interesting."
   ]
  },
  {
   "cell_type": "code",
   "execution_count": 11,
   "metadata": {},
   "outputs": [
    {
     "data": {
      "text/plain": [
       "array([0.70606627, 0.19035024, 0.66256949, 0.19092204, 0.8139928 ])"
      ]
     },
     "execution_count": 11,
     "metadata": {},
     "output_type": "execute_result"
    }
   ],
   "source": [
    "np.random.random_sample(5)"
   ]
  },
  {
   "cell_type": "code",
   "execution_count": 13,
   "metadata": {},
   "outputs": [
    {
     "data": {
      "image/png": "[encoded data removed]",
      "text/plain": [
       "<Figure size 432x288 with 1 Axes>"
      ]
     },
     "metadata": {},
     "output_type": "display_data"
    }
   ],
   "source": [
    "y=np.random.random_sample(5)\n",
    "import matplotlib.pyplot as plt\n",
    "plt.hist(y)\n",
    "plt.show()"
   ]
  },
  {
   "cell_type": "code",
   "execution_count": 14,
   "metadata": {},
   "outputs": [
    {
     "data": {
      "text/plain": [
       "array([0.52316047, 0.17798832, 0.54550488, 0.05354416, 0.97112532])"
      ]
     },
     "execution_count": 14,
     "metadata": {},
     "output_type": "execute_result"
    }
   ],
   "source": [
    "np.random.sample(5)"
   ]
  },
  {
   "cell_type": "code",
   "execution_count": 16,
   "metadata": {},
   "outputs": [
    {
     "data": {
      "image/png": "[encoded data removed]",
      "text/plain": [
       "<Figure size 432x288 with 1 Axes>"
      ]
     },
     "metadata": {},
     "output_type": "display_data"
    }
   ],
   "source": [
    "z=np.random.sample(5)\n",
    "import matplotlib.pyplot as plt\n",
    "plt.hist(z)\n",
    "plt.show()"
   ]
  },
  {
   "cell_type": "markdown",
   "metadata": {},
   "source": [
    "According to the documentation random_sample should \"return random floats in a half-open interval\" [1] but it only takes one argument (I got an error otherwise). Numpy.random.sample is giving the same definition and the documentation actually just refers to the random_sample explanation, they seem interchangeable."
   ]
  },
  {
   "cell_type": "markdown",
   "metadata": {},
   "source": [
    "###### Permutations"
   ]
  },
  {
   "cell_type": "code",
   "execution_count": 21,
   "metadata": {},
   "outputs": [
    {
     "data": {
      "text/plain": [
       "array([14,  8,  9,  3,  0, 16,  5,  4, 11,  6, 13, 12, 15,  7, 10, 19, 18,\n",
       "        1, 17,  2])"
      ]
     },
     "execution_count": 21,
     "metadata": {},
     "output_type": "execute_result"
    }
   ],
   "source": [
    "a = np.arange(20)\n",
    "np.random.shuffle(a)\n",
    "a"
   ]
  },
  {
   "cell_type": "markdown",
   "metadata": {},
   "source": [
    "The shuffle permutation does exactly what is expected. When a specific array is given in a specific range then the np.random.shuffle function changes the sequence of the array, instead of the original sequence structure."
   ]
  },
  {
   "cell_type": "code",
   "execution_count": 2,
   "metadata": {},
   "outputs": [
    {
     "data": {
      "text/plain": [
       "array([5, 1, 0, 8, 3, 2, 7, 6, 4])"
      ]
     },
     "execution_count": 2,
     "metadata": {},
     "output_type": "execute_result"
    }
   ],
   "source": [
    "import numpy as np\n",
    "np.random.permutation(9)"
   ]
  },
  {
   "cell_type": "markdown",
   "metadata": {},
   "source": [
    "Using np.random.permutation generates a random sequence using the range of x, excluding x. It therefore saves a line of code compared to shuffle in case the initial array is not required for other coding tasks."
   ]
  },
  {
   "cell_type": "markdown",
   "metadata": {},
   "source": [
    "##### 3. Explain the Use and Purpose of at least five distributions"
   ]
  },
  {
   "cell_type": "code",
   "execution_count": 4,
   "metadata": {},
   "outputs": [
    {
     "data": {
      "text/plain": [
       "array([ 2.63817442, 11.34644756,  7.08851234,  3.72053107,  4.884527  ,\n",
       "        1.3473832 ,  6.9102684 ])"
      ]
     },
     "execution_count": 4,
     "metadata": {},
     "output_type": "execute_result"
    }
   ],
   "source": [
    "import numpy as np\n",
    "np.random.chisquare(5.2, 7)"
   ]
  },
  {
   "cell_type": "code",
   "execution_count": 6,
   "metadata": {},
   "outputs": [
    {
     "data": {
      "image/png": "[encoded data removed]",
      "text/plain": [
       "<Figure size 432x288 with 1 Axes>"
      ]
     },
     "metadata": {},
     "output_type": "display_data"
    }
   ],
   "source": [
    "b=np.random.chisquare(5.2, 7)\n",
    "import matplotlib.pyplot as plt\n",
    "plt.hist(b)\n",
    "plt.show()"
   ]
  },
  {
   "cell_type": "markdown",
   "metadata": {},
   "source": [
    "\"The variable obtained by summing the squares of df independent, standard normally distributed random variables:\n",
    "\n",
    "Q = \\sum_{i=0}^{\\mathtt{df}} X^2_i\n",
    "\n",
    "is chi-square distributed, denoted\n",
    "\n",
    "Q \\sim \\chi^2_k.\n",
    "\n",
    "The probability density function of the chi-squared distribution is\n",
    "\n",
    "p(x) = \\frac{(1/2)^{k/2}}{\\Gamma(k/2)}\n",
    "x^{k/2 - 1} e^{-x/2},\n",
    "\n",
    "where \\Gamma is the gamma function,\n",
    "\n",
    "\\Gamma(x) = \\int_0^{-\\infty} t^{x - 1} e^{-t} dt.\" [1]."
   ]
  },
  {
   "cell_type": "markdown",
   "metadata": {},
   "source": [
    "The distribution chisquare takes two arguments: the degrees of freedom (df) which is a float which should be bigger than 0 [1]. The second arguments is the size, which represents the output shape [1]. I have used 7 and therefore 7 output floats are generated. The result is calculated using the chisquare function, which is a hypothesis test from statistics which is used in statistics to find out whether the expected frequencies differ significantly from the observed frequencies [4]. So I would presume that if the distribution should be random then there should not be a significant difference for any particular result to occur."
   ]
  },
  {
   "cell_type": "code",
   "execution_count": 13,
   "metadata": {},
   "outputs": [
    {
     "data": {
      "text/plain": [
       "array([10.3030877 ,  2.6248695 ,  5.58399256,  1.04194227,  4.64494227,\n",
       "        4.36381644, 20.88295085, 32.77651907, 10.35425088,  2.72449976,\n",
       "       10.63611899,  3.03479354,  2.00127094])"
      ]
     },
     "execution_count": 13,
     "metadata": {},
     "output_type": "execute_result"
    }
   ],
   "source": [
    "import numpy as np\n",
    "np.random.exponential(9.5, 13)"
   ]
  },
  {
   "cell_type": "code",
   "execution_count": 16,
   "metadata": {},
   "outputs": [
    {
     "data": {
      "image/png": "[encoded data removed]",
      "text/plain": [
       "<Figure size 432x288 with 1 Axes>"
      ]
     },
     "metadata": {},
     "output_type": "display_data"
    }
   ],
   "source": [
    "c=np.random.exponential(9.5, 13)\n",
    "import matplotlib.pyplot as plt\n",
    "plt.hist(c)\n",
    "plt.show()"
   ]
  },
  {
   "cell_type": "markdown",
   "metadata": {},
   "source": [
    "\"Its probability density function is\n",
    "\n",
    "f(x; \\frac{1}{\\beta}) = \\frac{1}{\\beta} \\exp(-\\frac{x}{\\beta}),\n",
    "\n",
    "for x > 0 and 0 elsewhere. \\beta is the scale parameter, which is the inverse of the rate parameter \\lambda = 1/\\beta.\" [1]"
   ]
  },
  {
   "cell_type": "markdown",
   "metadata": {},
   "source": [
    "The exponential distribution explains many common situations such as the time between page requests to Wikipedia [1]. An exponential distribution can be explained as points randomly located in a mathematical space [5]. Real world examples also include customers coming into a shop or phone calls to call centers [5]. The exponential distribution is strongly related to the Poisson distribution [6]."
   ]
  },
  {
   "cell_type": "code",
   "execution_count": 18,
   "metadata": {},
   "outputs": [
    {
     "data": {
      "text/plain": [
       "array([ 7.51832227,  3.41661999, 10.7126527 , 13.1831163 , -0.33142141,\n",
       "       -1.37565164,  8.84216706,  3.62324979,  3.36572816])"
      ]
     },
     "execution_count": 18,
     "metadata": {},
     "output_type": "execute_result"
    }
   ],
   "source": [
    "import numpy as np\n",
    "np.random.gumbel(3.4, 5.7, 9)"
   ]
  },
  {
   "cell_type": "code",
   "execution_count": 19,
   "metadata": {},
   "outputs": [
    {
     "data": {
      "text/plain": [
       "<function matplotlib.pyplot.show(*args, **kw)>"
      ]
     },
     "execution_count": 19,
     "metadata": {},
     "output_type": "execute_result"
    },
    {
     "data": {
      "image/png": "[encoded data removed]",
      "text/plain": [
       "<Figure size 432x288 with 1 Axes>"
      ]
     },
     "metadata": {},
     "output_type": "display_data"
    }
   ],
   "source": [
    "d=np.random.gumbel(3.4, 5.7, 9)\n",
    "import matplotlib.pyplot as plt\n",
    "plt.hist(d)\n",
    "plt.show"
   ]
  },
  {
   "cell_type": "markdown",
   "metadata": {},
   "source": [
    "\"The probability density for the Gumbel distribution is\n",
    "\n",
    "p(x) = \\frac{e^{-(x - \\mu)/ \\beta}}{\\beta} e^{ -e^{-(x - \\mu)/\n",
    "\\beta}},\n",
    "\n",
    "where \\mu is the mode, a location parameter, and \\beta is the scale parameter.\" [1]"
   ]
  },
  {
   "cell_type": "markdown",
   "metadata": {},
   "source": [
    "The Gumbel distribution takes a specified location (3.4), a scale (5.7) and also a size (9) to draw samples from. The Gumbel distribution is one of several Generalised Extreme Value (GEV) distributions. It is used to make models for extreme value problems, for instance to draw models of the occurrence of flood events or rainfall rates [1]. It is a so-called \"fat-tailed\" distribution, which means that it is more likely that an event is in the tail of the distribution rather than the middle of it [1]."
   ]
  },
  {
   "cell_type": "code",
   "execution_count": 1,
   "metadata": {},
   "outputs": [
    {
     "data": {
      "text/plain": [
       "array([ 3.00018792e+00, -2.85016519e+00,  1.21547546e-02, -1.36958829e+01,\n",
       "       -1.31189549e+00,  3.64328080e+01,  3.63082685e+00, -9.14729712e+00,\n",
       "        2.89171023e-02,  2.15473530e+00,  2.06216294e+00,  5.46530455e+01,\n",
       "        1.40779087e+01, -2.35592876e+00,  6.42001566e+00, -4.06931884e+00,\n",
       "       -1.36825504e+01,  9.73450564e+00, -2.77110175e-01,  1.15061186e+01,\n",
       "        3.36828904e+00,  8.14533415e+00,  2.47602687e+01, -4.26187401e+01,\n",
       "        1.22948223e+01, -3.69854375e+00,  7.93693887e+00,  9.57383892e+00,\n",
       "        1.03921142e+01,  1.65520302e+01,  4.48443656e+00,  3.87801360e+00,\n",
       "        6.20426647e+00,  1.07800498e+01, -2.19408452e+01,  2.15375097e+01,\n",
       "        3.48885449e+00,  9.98948619e+00,  4.85237285e+00,  6.90082212e+00,\n",
       "        1.93611870e+01,  2.17516240e+00,  1.51742528e+01,  2.69357944e+01,\n",
       "       -2.32457631e+01,  4.60060272e+00,  6.75759147e+00,  2.52950340e+00,\n",
       "        2.01032562e+01,  5.93674675e+00,  1.02007991e+01, -4.71379977e+00,\n",
       "        1.68572936e+01,  9.70545222e+00,  2.43066081e+01,  1.12322553e+01,\n",
       "       -3.57339388e+00,  4.00849343e+00,  5.91027916e+00,  4.31943274e+00,\n",
       "       -9.61711196e+00,  2.47048872e+00,  1.85279776e+00, -2.18765996e+01,\n",
       "        2.69000675e+00, -1.33047502e+00, -2.35907411e+00,  9.21375027e+00,\n",
       "        8.11398657e+00,  4.04189024e+01, -1.76961792e+01,  2.76914186e+01,\n",
       "        3.80065161e+01, -2.66345092e+00,  9.32009997e+00, -7.78363609e+00,\n",
       "        1.28521164e+01,  2.92000216e+00,  8.87680215e+00, -7.65010254e+00,\n",
       "        6.75455014e+00,  4.81907428e-01,  5.42908371e+00,  1.60973054e+00,\n",
       "       -6.13641570e+00,  3.74814377e+01,  9.49824993e+00, -1.00011471e+01,\n",
       "        4.19734962e+00, -1.18943524e+01, -2.62946905e+00, -1.07779461e+01,\n",
       "       -1.01101051e+01,  6.06019465e+00, -6.71544707e+00,  5.15000269e+00,\n",
       "        1.20216063e+01,  1.67539435e+00,  6.51695818e+00,  5.84201080e+00,\n",
       "        6.94313553e+00, -7.62533358e+00,  4.73818069e+00,  6.06078613e-01,\n",
       "       -2.06180849e+01, -9.12411242e-02,  1.65308171e+01, -1.05283276e+01,\n",
       "        1.13186524e+01,  1.55518134e+01,  3.06841624e+00,  1.45459408e+01,\n",
       "       -9.61818027e-01,  3.20496229e+00, -3.37014237e+01,  1.72626623e+01,\n",
       "        1.48074255e+01,  7.38997683e+00,  6.71069822e+00,  3.16559876e+01,\n",
       "        3.56737564e+00,  4.27693103e+00, -1.43978449e+00, -4.34617992e+00,\n",
       "       -4.00848986e+00, -2.85602950e+01,  1.40877677e+01,  7.15399925e+00,\n",
       "       -4.60560795e-01,  2.17454417e+00,  2.13047351e+01,  3.31136534e-01,\n",
       "        1.59665748e+01,  2.60547066e+00,  2.34141069e+01,  3.92775877e+00,\n",
       "        4.91295977e+00,  6.63928931e+00, -7.01527253e+00,  1.88481739e+01,\n",
       "        5.99639111e+00, -2.36523698e+01,  4.57105042e+00, -5.64720395e+00,\n",
       "       -5.09560258e+00, -1.40641133e+00,  3.96385636e+00, -2.48227385e+00,\n",
       "        1.38460336e+01,  4.36465705e+00,  1.57107847e+00,  2.22382167e+01,\n",
       "       -3.11284497e+01,  1.00085426e+01,  1.76128093e+00, -1.31764748e+01,\n",
       "        1.37941167e+01,  1.74185314e+01, -7.56080616e+00,  7.43067571e+00,\n",
       "        1.11312834e+01,  8.51446218e+00,  1.03160824e+01,  9.50987132e+00,\n",
       "        1.36191691e+01, -3.96539037e+00, -5.84968954e+00, -3.41613701e+01,\n",
       "        2.11509552e+00,  1.14751534e+01,  2.99927388e+01,  1.43753564e+00,\n",
       "        3.31588779e+00,  1.60743563e+01, -1.51980604e+01,  5.55660347e+00,\n",
       "        1.13373425e+01,  1.19375964e+01,  1.57039492e+01,  9.67335139e+00,\n",
       "        2.44071694e+01,  1.57160535e+01,  1.46296193e+01,  6.86143467e+00,\n",
       "        4.05163937e+00,  1.26762209e+01,  2.59161678e+00,  4.56905035e+00,\n",
       "        2.02055521e+00,  3.03480476e+00, -1.33124138e+00, -6.54491352e+00,\n",
       "       -6.78591467e+00,  6.86625305e+00,  2.52182904e+01, -1.16504415e+00,\n",
       "        3.05006048e+00, -6.10720084e+00,  1.84078814e+01, -7.40746150e+00])"
      ]
     },
     "execution_count": 1,
     "metadata": {},
     "output_type": "execute_result"
    }
   ],
   "source": [
    "import numpy as np\n",
    "np.random.laplace(4.5, 8.7, 200)"
   ]
  },
  {
   "cell_type": "code",
   "execution_count": 4,
   "metadata": {},
   "outputs": [
    {
     "data": {
      "image/png": "[encoded data removed]",
      "text/plain": [
       "<Figure size 432x288 with 1 Axes>"
      ]
     },
     "metadata": {},
     "output_type": "display_data"
    }
   ],
   "source": [
    "h=np.random.laplace(4.5, 8.7, 200)\n",
    "import matplotlib.pyplot as plt\n",
    "plt.hist(h)\n",
    "plt.show()"
   ]
  },
  {
   "cell_type": "markdown",
   "metadata": {},
   "source": [
    "\"It has the probability density function\n",
    "\n",
    "f(x; \\mu, \\lambda) = \\frac{1}{2\\lambda}\n",
    "\\exp\\left(-\\frac{|x - \\mu|}{\\lambda}\\right).\" [1]"
   ]
  },
  {
   "cell_type": "markdown",
   "metadata": {},
   "source": [
    "The Laplace distribution is also called double exponential distribution with a specific location (4.5 in my example, also called mean) and a scale (8.7 which is also called decay) [1]. The Laplace distribution is comparable to the Gaussian distribution (also called normal distribution) but the Laplace distribution has fatter tails and a sharper peak [1].It shows the \"difference between two independent, identically distributed exponential random variables\" [1]. Applications are for instance speech recognition or maximum one-day rainfalls per year [7]."
   ]
  },
  {
   "cell_type": "code",
   "execution_count": 5,
   "metadata": {},
   "outputs": [
    {
     "data": {
      "text/plain": [
       "array([0.65591019, 2.09296399, 1.55910088, 1.33467638, 3.27780038,\n",
       "       1.32651226, 2.29272046, 1.05455122, 1.98613033])"
      ]
     },
     "execution_count": 5,
     "metadata": {},
     "output_type": "execute_result"
    }
   ],
   "source": [
    "import numpy as np\n",
    "np.random.rayleigh(1.8, 9)"
   ]
  },
  {
   "cell_type": "code",
   "execution_count": 7,
   "metadata": {},
   "outputs": [
    {
     "data": {
      "image/png": "[encoded data removed]",
      "text/plain": [
       "<Figure size 432x288 with 1 Axes>"
      ]
     },
     "metadata": {},
     "output_type": "display_data"
    }
   ],
   "source": [
    "k=np.random.rayleigh(1.8, 9)\n",
    "import matplotlib.pyplot as plt\n",
    "plt.hist(k)\n",
    "plt.show()"
   ]
  },
  {
   "cell_type": "markdown",
   "metadata": {},
   "source": [
    "\"The probability density function for the Rayleigh distribution is\n",
    "\n",
    "P(x;scale) = \\frac{x}{scale^2}e^{\\frac{-x^2}{2 \\cdotp scale^2}}\" [1]"
   ]
  },
  {
   "cell_type": "markdown",
   "metadata": {},
   "source": [
    "The first parameter is the scale of the sample (1.8) and the second is the size of the sample (9) [1]. The Rayleigh distribution \"is a continuous probability distribution for positive-valued random variables\" [8]. Real-world examples are for instance wind velocity studied in two dimensions [8]. The background data of MRI images also show a Rayleigh distribution and it can be applied to nutrition [8]."
   ]
  },
  {
   "cell_type": "code",
   "execution_count": 2,
   "metadata": {},
   "outputs": [
    {
     "data": {
      "text/plain": [
       "array([-8.31010540e-01, -1.90520890e-01, -2.28775047e-01, -1.83481678e-01,\n",
       "       -2.48929556e-01, -5.73688428e-01, -5.02351437e-01, -1.83893299e-02,\n",
       "       -9.43830959e-01, -1.26440134e-01, -5.40200935e-01, -7.14743946e-01,\n",
       "       -4.32581013e-02, -9.94982618e-01, -5.27042249e-01, -5.18398530e-01,\n",
       "       -9.32368726e-01, -9.69641075e-01, -7.32360506e-01, -5.38315142e-01,\n",
       "       -8.10117515e-01, -4.60009695e-01, -6.34545191e-01, -6.20518067e-01,\n",
       "       -5.52457561e-01, -2.17022527e-01, -1.38599696e-01, -7.62923705e-01,\n",
       "       -8.95731845e-01, -9.03311691e-01, -6.86030379e-01, -1.96393844e-02,\n",
       "       -4.85825581e-01, -1.00623872e-01, -4.20972988e-01, -9.32711301e-01,\n",
       "       -1.37503990e-01, -3.56977673e-01, -6.25898834e-01, -1.09607514e-02,\n",
       "       -1.28288007e-01, -5.71524515e-01, -9.07929563e-01, -5.85487423e-02,\n",
       "       -5.24025527e-01, -4.37032860e-01, -8.07084274e-01, -6.28268459e-01,\n",
       "       -3.88433203e-01, -8.25208926e-01, -9.81490249e-01, -9.86045837e-02,\n",
       "       -8.17302500e-01, -8.18208924e-01, -6.91267747e-01, -5.19383411e-02,\n",
       "       -6.12301229e-01, -7.67082928e-01, -7.03937181e-01, -6.42080267e-01,\n",
       "       -4.46768172e-02, -8.20552099e-01, -1.27424722e-01, -9.38829920e-01,\n",
       "       -6.63020686e-01, -8.38008898e-01, -4.04846104e-01, -1.65580716e-01,\n",
       "       -1.07817711e-01, -4.86138133e-01, -3.74009818e-01, -3.05735575e-01,\n",
       "       -4.82814978e-01, -2.17137513e-01, -7.61598907e-01, -7.94827692e-01,\n",
       "       -6.44812749e-01, -7.46561246e-02, -4.30293334e-01, -5.83132166e-01,\n",
       "       -6.98922099e-01, -7.76484980e-01, -9.46088258e-01, -3.33280675e-01,\n",
       "       -5.37397207e-01, -8.01371901e-01, -5.55806257e-01, -5.15863249e-01,\n",
       "       -7.87452156e-01, -4.52885489e-01, -9.39341539e-01, -5.73853842e-01,\n",
       "       -8.70067817e-02, -2.18805781e-01, -2.58152754e-01, -4.93884224e-01,\n",
       "       -6.58921317e-02, -2.75277211e-01, -7.35084659e-01, -8.27547370e-01,\n",
       "       -8.86644937e-01, -5.35034460e-02, -9.70988708e-01, -2.14242396e-01,\n",
       "       -9.06800894e-01, -6.88884467e-01, -3.88215732e-01, -6.63579592e-01,\n",
       "       -4.90690456e-01, -5.30242113e-01, -9.05793186e-01, -4.36937280e-01,\n",
       "       -6.80630135e-01, -7.12686287e-01, -9.81605831e-01, -7.62420437e-01,\n",
       "       -7.44101711e-01, -3.85142188e-01, -2.57928473e-01, -6.49687915e-02,\n",
       "       -2.77103607e-01, -8.71401930e-01, -4.91795341e-01, -3.69048608e-01,\n",
       "       -7.15005741e-01, -5.85285398e-01, -3.33185715e-01, -3.04355289e-01,\n",
       "       -5.03869026e-01, -2.04212561e-01, -5.45486470e-01, -5.54227037e-01,\n",
       "       -7.28498351e-01, -2.41890105e-01, -9.51208630e-01, -4.79478342e-02,\n",
       "       -4.20484037e-01, -7.99410742e-01, -2.01703851e-02, -6.60592582e-01,\n",
       "       -2.27197750e-02, -7.65033030e-01, -9.59092733e-01, -1.77819914e-01,\n",
       "       -2.36969987e-02, -5.11294944e-01, -9.38186838e-01, -5.79497405e-01,\n",
       "       -1.15562945e-01, -2.76687101e-04, -1.00319550e-01, -7.22623567e-01,\n",
       "       -2.58701687e-01, -3.31634437e-01, -4.97071900e-01, -6.76521499e-01,\n",
       "       -1.56699165e-01, -1.26538815e-01, -9.85147980e-01, -2.52690711e-01,\n",
       "       -9.14377537e-01, -2.43273786e-01, -5.08265402e-01, -7.02270253e-01,\n",
       "       -1.67421372e-01, -7.29714772e-02, -5.14714328e-01, -3.80645564e-01,\n",
       "       -5.42857027e-01, -1.65231685e-01, -2.49997674e-01, -6.93006006e-01,\n",
       "       -7.56151489e-01, -2.39739098e-01, -9.21890752e-01, -1.03085478e-01,\n",
       "       -1.22338726e-01, -1.66566256e-01, -2.70529723e-01, -6.65823842e-01,\n",
       "       -5.37275242e-01, -8.28740245e-01, -9.65429149e-01, -1.28148057e-01,\n",
       "       -6.00240861e-01, -3.81297453e-01, -9.08950246e-01, -2.23337544e-01,\n",
       "       -9.54110115e-01, -9.13598628e-01, -7.23524915e-01, -8.26705839e-01,\n",
       "       -6.05052283e-02, -6.53428163e-01, -4.04688426e-01, -8.01331528e-01,\n",
       "       -3.06926304e-01, -6.53000973e-01, -1.76287368e-01, -5.57187291e-01,\n",
       "       -2.20230396e-01, -2.22721801e-01, -2.08273534e-01, -6.51072892e-01,\n",
       "       -4.53249567e-02, -4.02552652e-01, -1.63821089e-01, -2.83585023e-01,\n",
       "       -7.01070659e-01, -7.23375233e-01, -9.51046036e-02, -8.82408933e-01,\n",
       "       -7.20973351e-01, -3.57959018e-01, -1.52314509e-01, -6.31314656e-01,\n",
       "       -5.94670510e-02, -8.84188632e-01, -6.14989931e-01, -4.11619330e-01,\n",
       "       -1.99656252e-01, -1.02494673e-01, -5.50416511e-01, -3.19561361e-01,\n",
       "       -4.56637554e-01, -7.71219287e-01, -6.08121266e-01, -9.48806057e-01,\n",
       "       -9.99199537e-01, -4.87429158e-01, -9.82669536e-01, -8.98510983e-01,\n",
       "       -3.49186106e-01, -4.61745979e-01, -9.46194539e-01, -5.21210499e-01,\n",
       "       -5.80001450e-01, -3.43437276e-01, -4.90137362e-01, -1.97210724e-01,\n",
       "       -2.26323897e-01, -1.97660615e-01, -2.38267148e-01, -7.80457109e-01,\n",
       "       -8.10642234e-01, -9.52326367e-01, -6.96967550e-01, -6.18903450e-01,\n",
       "       -2.22056070e-01, -6.32860016e-01, -6.21302808e-01, -4.15465562e-01,\n",
       "       -1.84923023e-01, -4.71935936e-01, -1.81845803e-01, -5.57956788e-01,\n",
       "       -9.65809828e-01, -9.28881991e-01, -5.32764453e-01, -3.01723662e-01,\n",
       "       -3.39321212e-01, -9.06257841e-01, -6.13068142e-01, -5.46805305e-01,\n",
       "       -2.91073196e-01, -6.17551492e-01, -2.20800322e-01, -6.08277727e-02,\n",
       "       -3.42989215e-01, -9.20018921e-01, -7.80842550e-01, -7.63343428e-01,\n",
       "       -6.89631070e-01, -4.25424838e-01, -9.68579683e-01, -3.13647378e-01,\n",
       "       -9.96533442e-02, -8.27122977e-01, -5.39463060e-01, -5.40291173e-01,\n",
       "       -9.29059932e-01, -3.32668697e-01, -7.25975888e-01, -5.38757698e-01,\n",
       "       -2.98460192e-01, -7.58400159e-01, -3.84460892e-01, -3.27758764e-01,\n",
       "       -7.33823604e-01, -5.32931827e-01, -1.58443576e-01, -9.16250763e-01,\n",
       "       -3.67167495e-01, -7.20561408e-01, -9.71840028e-02, -8.94227377e-01,\n",
       "       -7.59666757e-01, -3.13142053e-01, -9.41767998e-01, -3.72142347e-01,\n",
       "       -3.86471044e-01, -9.37006071e-01, -6.87803829e-04, -6.96623695e-01,\n",
       "       -4.70488674e-01, -8.18320670e-01, -4.64427536e-02, -9.67364529e-02,\n",
       "       -5.75718383e-01, -1.58398853e-01, -4.04982222e-01, -8.34983850e-01,\n",
       "       -9.23679526e-01, -2.69906696e-01, -8.72415951e-01, -7.04267007e-01,\n",
       "       -5.73971264e-01, -1.25516909e-01, -9.43920705e-01, -7.18789562e-01,\n",
       "       -8.32929788e-01, -6.13228034e-01, -9.59910418e-01, -7.44359281e-01,\n",
       "       -3.30343514e-01, -1.91724623e-01, -2.29390607e-02, -3.53746010e-02,\n",
       "       -9.78095432e-01, -7.53447944e-01, -6.04073127e-01, -1.99623768e-01,\n",
       "       -2.06643992e-01, -3.73377620e-01, -2.30901140e-01, -5.41798021e-01,\n",
       "       -8.15920782e-01, -3.04186131e-01, -4.07368768e-01, -7.29694200e-02,\n",
       "       -3.86147430e-01, -3.90465262e-01, -9.47782199e-01, -5.05427291e-01,\n",
       "       -5.41783693e-01, -8.03020307e-01, -1.27494203e-01, -3.34541272e-01,\n",
       "       -6.49785983e-01, -7.33790557e-01, -6.24947812e-01, -9.92592033e-01,\n",
       "       -5.63398793e-01, -6.29734681e-01, -4.91090728e-01, -2.01815818e-01,\n",
       "       -7.60256962e-01, -3.60685760e-01, -6.56776302e-01, -1.14892451e-02,\n",
       "       -5.74374367e-01, -9.54950732e-01, -9.47229114e-01, -7.76334760e-01,\n",
       "       -1.70724695e-01, -1.43366186e-01, -6.57257182e-01, -6.19392165e-01,\n",
       "       -8.85105077e-01, -4.41513820e-01, -3.30711491e-01, -3.18658259e-01,\n",
       "       -1.86959582e-01, -1.51260354e-02, -6.96235881e-01, -5.49858774e-01,\n",
       "       -1.48377026e-01, -3.05130456e-01, -8.16163501e-01, -5.53770426e-01,\n",
       "       -6.37467943e-01, -9.93414982e-01, -6.94553750e-01, -9.01474206e-01,\n",
       "       -1.69025020e-01, -9.10952186e-01, -8.61980309e-02, -2.94440651e-01,\n",
       "       -4.44537915e-01, -8.36911547e-01, -9.89583361e-01, -6.15496008e-01,\n",
       "       -7.28064295e-01, -6.24028504e-01, -6.69326029e-02, -2.81365297e-01,\n",
       "       -5.46616253e-02, -7.47124080e-01, -1.66665690e-01, -2.27251290e-03,\n",
       "       -4.22310361e-02, -5.55597225e-01, -1.03303352e-01, -9.74958978e-01,\n",
       "       -2.51591729e-01, -5.12080702e-01, -6.73516347e-02, -1.64126020e-01,\n",
       "       -2.69678149e-01, -1.66715261e-01, -8.41066385e-02, -6.19299576e-02,\n",
       "       -5.77010927e-01, -8.73224983e-01, -5.83107473e-01, -5.58472619e-01,\n",
       "       -2.66909726e-01, -4.55657200e-01, -1.40185578e-01, -4.76452486e-02,\n",
       "       -9.82149467e-01, -3.71747574e-01, -5.21294176e-01, -2.75696792e-01,\n",
       "       -3.75157517e-01, -8.98923058e-01, -8.41481495e-01, -4.28820874e-01,\n",
       "       -6.33969896e-01, -9.10329346e-01, -2.90982555e-01, -9.53830516e-01,\n",
       "       -4.94694094e-01, -3.24662873e-02, -1.23567618e-01, -3.50921014e-01,\n",
       "       -8.57589704e-01, -3.82241852e-01, -5.10065888e-01, -6.38976844e-01,\n",
       "       -8.09335095e-01, -9.39804924e-01, -4.56434934e-01, -2.17245194e-02,\n",
       "       -4.48783049e-01, -7.62065330e-01, -3.14867350e-01, -4.37359731e-02,\n",
       "       -9.32846655e-01, -3.98137100e-01, -7.87497026e-01, -2.95915824e-01,\n",
       "       -1.80511295e-01, -3.70505311e-01, -5.11435004e-01, -1.40270452e-01,\n",
       "       -9.80940845e-01, -7.81537927e-01, -2.28935201e-01, -5.11933224e-01,\n",
       "       -8.27763562e-01, -1.15975350e-03, -8.45722693e-01, -8.71451354e-01,\n",
       "       -1.68680337e-01, -2.49853042e-01, -3.67798311e-01, -9.76656178e-01,\n",
       "       -4.88711907e-01, -2.66894344e-01, -8.84551793e-01, -9.22318640e-01,\n",
       "       -2.16707028e-01, -7.25300103e-01, -5.90578319e-02, -3.39328537e-01,\n",
       "       -1.88442992e-01, -7.35232224e-01, -2.20422961e-01, -8.23100655e-01,\n",
       "       -5.21145833e-01, -1.73636080e-01, -7.03161836e-01, -3.80413140e-01,\n",
       "       -3.45618001e-01, -6.11009450e-02, -4.03669740e-01, -3.23044964e-01,\n",
       "       -2.85729102e-01, -5.15329712e-01, -8.94822964e-01, -7.45137499e-01,\n",
       "       -7.83411142e-03, -1.32634819e-01, -4.80754959e-01, -5.41133235e-01,\n",
       "       -1.12998632e-01, -5.20974115e-01, -1.28976802e-01, -7.61902260e-01,\n",
       "       -5.34078998e-01, -4.86684615e-01, -3.78530471e-01, -3.53693938e-01,\n",
       "       -4.87496456e-01, -6.15595049e-01, -9.76043363e-01, -7.65726988e-01,\n",
       "       -8.68937434e-01, -3.20747000e-01, -5.60209175e-01, -3.76998324e-01,\n",
       "       -8.62710889e-01, -1.49185654e-02, -3.27832067e-01, -6.35838020e-01,\n",
       "       -2.52923167e-01, -1.75165608e-02, -2.15421855e-01, -4.40313525e-02,\n",
       "       -4.50150347e-01, -5.55610637e-02, -2.87391630e-01, -9.60394800e-01,\n",
       "       -8.00076969e-01, -1.19438296e-01, -4.38530160e-02, -7.47058789e-02,\n",
       "       -2.84491497e-01, -4.33462027e-01, -9.72987540e-01, -3.21027505e-01,\n",
       "       -4.20996830e-01, -7.28615679e-01, -2.90270729e-01, -9.69448132e-01,\n",
       "       -1.29776243e-01, -7.39534783e-01, -1.05227264e-01, -1.31649619e-01,\n",
       "       -5.67169580e-01, -2.48233477e-01, -4.67912375e-01, -6.87877713e-01,\n",
       "       -9.74913067e-01, -9.96276863e-01, -8.44822717e-01, -4.28333431e-01,\n",
       "       -5.83294338e-01, -1.36901205e-02, -9.91618797e-01, -1.37915143e-02,\n",
       "       -9.36535141e-01, -4.28913975e-01, -8.00306030e-01, -9.53893778e-01,\n",
       "       -2.72725145e-01, -4.42059873e-01, -1.20935656e-02, -7.14935342e-01,\n",
       "       -6.11403259e-02, -3.02120610e-02, -3.89251646e-01, -2.19510461e-01,\n",
       "       -1.16260936e-01, -4.68589232e-01, -3.51389698e-01, -6.86970810e-01,\n",
       "       -4.79091254e-01, -4.15605822e-01, -7.85769032e-01, -1.15539871e-01,\n",
       "       -3.01238663e-01, -8.24042227e-01, -9.96740038e-01, -8.99586082e-01,\n",
       "       -1.96372761e-01, -4.98010067e-01, -9.30241071e-01, -3.69547681e-01,\n",
       "       -3.87279904e-01, -8.10142807e-01, -6.28113936e-01, -5.61626899e-01,\n",
       "       -6.88046324e-01, -3.34849767e-01, -4.76707315e-01, -9.61851357e-01,\n",
       "       -7.78997942e-02, -9.94132540e-01, -9.81595636e-01, -5.60203459e-01,\n",
       "       -8.89833094e-01, -5.40641095e-01, -1.24622031e-01, -6.30983439e-01,\n",
       "       -2.57727627e-01, -2.24057831e-01, -1.51912330e-01, -4.36061933e-01,\n",
       "       -1.37129319e-02, -4.82289498e-01, -3.97024182e-01, -5.16300904e-01,\n",
       "       -9.12837839e-01, -3.17347987e-01, -1.22298469e-01, -4.48196754e-02,\n",
       "       -7.05989874e-01, -3.24365057e-01, -2.18034363e-01, -4.65440329e-01,\n",
       "       -5.76476693e-01, -4.36030236e-01, -5.72490995e-01, -4.69376399e-01,\n",
       "       -9.54025816e-01, -5.45854084e-01, -5.21950932e-01, -3.06060457e-01,\n",
       "       -5.89305688e-01, -2.59510360e-01, -4.61570300e-01, -6.25755986e-01,\n",
       "       -8.39376167e-02, -4.31392424e-01, -4.35077308e-01, -2.26081392e-01,\n",
       "       -8.52542077e-01, -2.06312274e-01, -1.98001583e-01, -5.92975272e-01,\n",
       "       -3.68399211e-01, -9.54667943e-01, -7.15095433e-01, -7.45357877e-01,\n",
       "       -5.66182048e-01, -4.04189942e-01, -9.25492697e-01, -8.44889153e-01,\n",
       "       -5.60760750e-01, -9.99787446e-02, -6.87255077e-01, -5.55259310e-02,\n",
       "       -2.09085221e-01, -4.59602207e-01, -4.99246214e-01, -2.41475722e-01,\n",
       "       -8.99214619e-01, -9.14110755e-01, -6.74328816e-02, -7.62760643e-02,\n",
       "       -2.32018882e-01, -7.92820070e-01, -7.86581557e-01, -2.71488527e-01,\n",
       "       -5.10428210e-01, -9.48966725e-01, -3.27167267e-01, -4.65723323e-01,\n",
       "       -6.51573767e-01, -8.24585329e-01, -4.56052450e-01, -9.77754030e-01,\n",
       "       -8.33165127e-01, -1.43545446e-01, -1.45712036e-01, -6.13949743e-01,\n",
       "       -8.37809142e-01, -7.16521096e-01, -8.96091323e-01, -8.57760245e-01,\n",
       "       -9.47460167e-01, -5.46915046e-01, -9.97615933e-01, -1.86342659e-01,\n",
       "       -5.90740365e-01, -7.57338702e-01, -4.69065222e-01, -9.49555979e-01,\n",
       "       -1.99472778e-01, -1.99339960e-01, -4.17414377e-01, -3.18844593e-01,\n",
       "       -1.96151643e-01, -1.21451589e-01, -2.55867969e-01, -8.95536369e-01,\n",
       "       -4.74751035e-01, -2.56141438e-01, -8.18534999e-01, -4.03404150e-01,\n",
       "       -4.77464308e-01, -8.37919902e-03, -4.84170105e-01, -5.90973580e-01,\n",
       "       -3.72746158e-01, -8.80070736e-01, -8.54724984e-01, -9.56421420e-01,\n",
       "       -5.54682088e-02, -3.36477762e-01, -1.27942916e-01, -8.86634344e-01,\n",
       "       -3.37730927e-01, -8.68306329e-01, -1.92313929e-02, -2.53844172e-01,\n",
       "       -1.79021366e-02, -3.20261673e-01, -1.28311877e-01, -2.52847138e-01,\n",
       "       -8.37864442e-01, -6.56415560e-01, -4.43365706e-01, -1.81109018e-01,\n",
       "       -7.09498480e-01, -7.79383813e-01, -2.70493243e-01, -8.72283214e-01,\n",
       "       -9.66411569e-01, -7.32246389e-01, -2.06092205e-01, -8.59053028e-01,\n",
       "       -4.00994378e-01, -2.99155588e-02, -2.67726112e-01, -2.40439899e-02,\n",
       "       -6.09683902e-01, -4.91976811e-01, -7.81214810e-01, -3.44754661e-01,\n",
       "       -9.22430803e-01, -2.01765126e-01, -7.34642031e-01, -8.83963739e-01,\n",
       "       -2.05455573e-01, -9.79195676e-01, -2.53712936e-02, -6.04449990e-01,\n",
       "       -4.84492329e-01, -1.60160961e-01, -4.84934207e-01, -9.62064426e-01,\n",
       "       -3.88295185e-01, -6.52563970e-01, -3.09867469e-01, -9.83641344e-01,\n",
       "       -5.35739222e-01, -3.23660946e-01, -5.11146213e-03, -1.37588039e-01,\n",
       "       -2.55530868e-01, -1.31817020e-01, -1.81636388e-01, -9.94580778e-01,\n",
       "       -7.49717562e-03, -2.69122922e-01, -4.64252250e-01, -1.93302033e-01,\n",
       "       -5.56047472e-01, -4.63450470e-01, -3.18694094e-01, -1.51985772e-01,\n",
       "       -6.61764223e-02, -4.21223831e-01, -8.68396408e-01, -7.79459124e-01,\n",
       "       -7.64399057e-01, -4.40058261e-01, -7.31794237e-01, -4.69403664e-01,\n",
       "       -4.25587031e-01, -2.77475425e-01, -4.92235155e-01, -1.46080090e-01,\n",
       "       -9.24515990e-01, -4.16891830e-01, -7.06553370e-01, -5.62872327e-01,\n",
       "       -2.36389559e-01, -2.49250731e-01, -4.44579452e-01, -8.75903072e-01,\n",
       "       -7.02312612e-01, -7.99658845e-01, -7.16936087e-01, -5.39553129e-01,\n",
       "       -4.15811079e-01, -8.00535985e-01, -7.41526261e-01, -9.17407795e-01,\n",
       "       -8.94315633e-01, -3.48936570e-01, -7.28471411e-01, -8.90761388e-01,\n",
       "       -4.22065314e-01, -4.67742655e-01, -8.15687183e-01, -7.14836577e-01,\n",
       "       -4.42851099e-01, -6.42057758e-03, -7.28404166e-01, -8.25044527e-01,\n",
       "       -4.14306271e-01, -8.11672084e-01, -1.42671470e-02, -7.03056681e-01,\n",
       "       -3.62440268e-01, -9.76936881e-01, -6.30246429e-01, -1.06348801e-01,\n",
       "       -4.29895454e-01, -4.60425561e-01, -4.93157901e-01, -9.59630387e-02,\n",
       "       -2.78903241e-01, -9.74225964e-01, -1.23658796e-02, -3.24581558e-02,\n",
       "       -6.88896760e-01, -1.20293949e-01, -4.62650446e-01, -3.51780196e-01,\n",
       "       -2.56499509e-01, -3.55724385e-01, -7.59639653e-01, -9.82214940e-02,\n",
       "       -4.08063642e-01, -1.49540233e-01, -9.97145964e-01, -9.59747350e-01,\n",
       "       -3.65346843e-01, -9.08494617e-01, -1.46714085e-01, -3.30386002e-01,\n",
       "       -2.08468291e-01, -8.90507697e-01, -6.79579006e-01, -8.85787986e-01,\n",
       "       -3.03047412e-02, -5.04846409e-01, -9.25517910e-01, -4.74239160e-02,\n",
       "       -3.60969737e-01, -7.16441636e-01, -7.67002814e-01, -2.70010323e-01,\n",
       "       -1.38524267e-01, -7.07780685e-01, -4.12706599e-01, -4.18509758e-01,\n",
       "       -9.08796760e-01, -4.31274941e-01, -5.65384123e-01, -2.77854699e-01,\n",
       "       -8.38849150e-01, -7.30499317e-01, -1.70440127e-01, -6.10731102e-01,\n",
       "       -9.60739625e-01, -9.07855579e-01, -7.98930302e-01, -4.70822513e-01,\n",
       "       -2.81065531e-01, -1.73565978e-01, -4.26196064e-01, -4.85233834e-01,\n",
       "       -9.83815595e-01, -2.26302995e-01, -7.63641287e-01, -6.60135546e-01,\n",
       "       -5.42327062e-01, -6.88623761e-01, -3.05974576e-01, -8.81123475e-01,\n",
       "       -6.03652175e-01, -4.02927151e-01, -1.19632592e-01, -2.82938208e-01,\n",
       "       -6.79968272e-01, -5.90107764e-01, -8.04643056e-02, -2.50282355e-01,\n",
       "       -4.32957992e-01, -1.21319374e-02, -7.68782116e-01, -5.41203063e-01,\n",
       "       -3.50378469e-01, -9.62673494e-01, -9.43064754e-01, -7.06469082e-01,\n",
       "       -4.68593617e-01, -5.19035312e-01, -2.17505684e-03, -9.84118176e-01,\n",
       "       -7.29919327e-01, -9.65025546e-01, -3.12201170e-01, -1.10432597e-01,\n",
       "       -6.05723137e-01, -2.38064585e-01, -5.52259024e-01, -2.13174928e-01,\n",
       "       -5.91632363e-01, -9.24222453e-01, -4.03885997e-01, -7.82094252e-01,\n",
       "       -8.75882027e-01, -2.16054170e-01, -5.26935071e-02, -7.29558200e-01,\n",
       "       -7.73317830e-01, -9.99462049e-01, -3.54473866e-01, -8.80000553e-01,\n",
       "       -2.26793330e-01, -9.15706544e-01, -2.43435456e-01, -6.14259993e-01,\n",
       "       -8.72703419e-01, -9.34080754e-01, -6.15368541e-01, -6.77963245e-01,\n",
       "       -8.00542341e-01, -7.46047415e-01, -2.28649372e-02, -6.47079843e-01,\n",
       "       -2.06906077e-01, -1.77773551e-01, -4.70684825e-01, -9.94618017e-01,\n",
       "       -2.21720648e-01, -8.19887311e-01, -6.52505661e-01, -7.19463188e-01,\n",
       "       -8.77557473e-01, -5.89908311e-01, -6.57938214e-01, -7.71214083e-01,\n",
       "       -3.57951824e-01, -9.83693274e-01, -2.19057567e-01, -6.04667427e-01,\n",
       "       -7.43892193e-01, -7.70293092e-01, -9.47738714e-01, -5.82802983e-01,\n",
       "       -6.04807348e-01, -8.43100288e-01, -9.90252353e-02, -1.78472617e-01,\n",
       "       -7.62656774e-01, -5.62080508e-01, -2.89465640e-01, -5.62387540e-01,\n",
       "       -1.75375010e-01, -9.01676118e-02, -2.95798673e-01, -3.68617545e-01,\n",
       "       -1.44005674e-01, -1.38318890e-01, -6.96755550e-01, -4.48112167e-01,\n",
       "       -8.34942731e-01, -9.33621499e-01, -1.26454793e-01, -1.82523646e-01,\n",
       "       -2.84000813e-01, -9.25307589e-01, -2.41856848e-01, -2.93315538e-01,\n",
       "       -9.47898161e-01, -1.90375618e-01, -4.63647206e-01, -2.68674101e-01,\n",
       "       -8.69815152e-01, -2.36589610e-02, -2.71313200e-01, -8.38144364e-01,\n",
       "       -4.98955490e-01, -5.50147513e-01, -2.09398694e-01, -9.39709044e-01,\n",
       "       -5.83222414e-01, -6.09928487e-01, -6.62393377e-01, -4.16882903e-01,\n",
       "       -5.15818162e-02, -1.22677142e-01, -7.44149395e-01, -4.62391057e-01,\n",
       "       -6.86768339e-01, -7.92799642e-01, -9.83897401e-01, -9.84350706e-01,\n",
       "       -8.67853400e-01, -2.67203923e-01, -3.86303552e-01, -4.30110285e-01])"
      ]
     },
     "execution_count": 2,
     "metadata": {},
     "output_type": "execute_result"
    }
   ],
   "source": [
    "import numpy as np\n",
    "np.random.uniform(-1,0,1000)"
   ]
  },
  {
   "cell_type": "code",
   "execution_count": 6,
   "metadata": {},
   "outputs": [
    {
     "data": {
      "image/png": "[encoded data removed]",
      "text/plain": [
       "<Figure size 432x288 with 1 Axes>"
      ]
     },
     "metadata": {},
     "output_type": "display_data"
    }
   ],
   "source": [
    "s = np.random.uniform(0.0,1,10000)\n",
    "import matplotlib.pyplot as plt\n",
    "plt.hist(s)\n",
    "plt.show()"
   ]
  },
  {
   "cell_type": "markdown",
   "metadata": {},
   "source": [
    "\"The probability density function of the uniform distribution is\n",
    "\n",
    "p(x) = \\frac{1}{b - a}\n",
    "\n",
    "anywhere within the interval [a, b), and zero elsewhere.\" [1]"
   ]
  },
  {
   "cell_type": "markdown",
   "metadata": {},
   "source": [
    "The first parameter is the lower boundary (0.0), the second is the higher boundary (1), and the last parameter is the size of the sample (10000) [1]. The continuous uniform distribution, also referred to as rectangular distribution, is a distribution with a constant probability [9]. This distribution is specifically useful for the generation of pseudo-random numbers to simulate experiments because if each value is equally as likely to occur then the data is as random as possible [9]."
   ]
  },
  {
   "cell_type": "code",
   "execution_count": 8,
   "metadata": {},
   "outputs": [
    {
     "data": {
      "text/plain": [
       "array([5.88395189e+01, 3.84692163e-01, 7.03391563e-01, 9.74054280e-02,\n",
       "       7.61197833e-02, 9.33221192e-01, 1.32670002e-01, 4.40940074e+01,\n",
       "       1.70158491e-01, 1.83908707e-01, 4.46629989e-01, 7.10321293e-01,\n",
       "       2.18243899e+00, 4.75299135e-01, 1.68352853e+00, 3.49001717e-01,\n",
       "       7.29398936e-01, 1.16354108e+00, 1.72790221e+00, 6.84388099e+00,\n",
       "       3.50738516e-01, 8.61062925e-01, 2.97075563e-02, 3.57224511e-01,\n",
       "       9.84543496e-01, 2.27484041e+00, 4.05196782e-01, 3.96105554e+00,\n",
       "       2.20939081e-01, 6.74043224e-01])"
      ]
     },
     "execution_count": 8,
     "metadata": {},
     "output_type": "execute_result"
    }
   ],
   "source": [
    "import numpy as np\n",
    "np.random.wald(4.1, 0.3, 30)"
   ]
  },
  {
   "cell_type": "code",
   "execution_count": 9,
   "metadata": {},
   "outputs": [
    {
     "data": {
      "image/png": "[encoded data removed]",
      "text/plain": [
       "<Figure size 432x288 with 1 Axes>"
      ]
     },
     "metadata": {},
     "output_type": "display_data"
    }
   ],
   "source": [
    "j=np.random.wald(4.1, 0.3, 30)\n",
    "import matplotlib.pyplot as plt\n",
    "plt.plot(j)\n",
    "plt.show()"
   ]
  },
  {
   "cell_type": "markdown",
   "metadata": {},
   "source": [
    "\"The probability density function for the Wald distribution is\n",
    "\n",
    "P(x;mean,scale) = \\sqrt{\\frac{scale}{2\\pi x^3}}e^\n",
    "\\frac{-scale(x-mean)^2}{2\\cdotp mean^2x}\" [1]"
   ]
  },
  {
   "cell_type": "markdown",
   "metadata": {},
   "source": [
    "The input parameters are mean (4.1), scale (0.3), and size (30) [1]. The Wald distribution is also called inverse Gaussian distribution [1]. The distribution becomes more like the Gaussian once the scale approaches infinity [1]."
   ]
  },
  {
   "cell_type": "markdown",
   "metadata": {},
   "source": [
    "#### 4. The seed method"
   ]
  },
  {
   "cell_type": "code",
   "execution_count": 5,
   "metadata": {},
   "outputs": [
    {
     "data": {
      "text/plain": [
       "<mtrand.RandomState at 0x27fe9bf0ab0>"
      ]
     },
     "execution_count": 5,
     "metadata": {},
     "output_type": "execute_result"
    }
   ],
   "source": [
    "import numpy as np\n",
    "np.random.RandomState()"
   ]
  },
  {
   "cell_type": "code",
   "execution_count": 6,
   "metadata": {},
   "outputs": [
    {
     "data": {
      "text/plain": [
       "<mtrand.RandomState at 0x27fe9bf0120>"
      ]
     },
     "execution_count": 6,
     "metadata": {},
     "output_type": "execute_result"
    }
   ],
   "source": [
    "np.random.RandomState(seed=4)"
   ]
  },
  {
   "cell_type": "code",
   "execution_count": 8,
   "metadata": {},
   "outputs": [],
   "source": [
    "np.random.seed(4)\n",
    "# there is no output when I use random.seed by itself.\n",
    "# According to the documentation there should be."
   ]
  },
  {
   "cell_type": "markdown",
   "metadata": {},
   "source": [
    "The seed method \"is called when RandomState is initialised\" and it can be called again if the generator needs to be re-seeded [1]. The RandomState is a \"container for the Mersenne Twister pseudo-random number generator\" [1]. Using this container exposes several methods of how to generate random numbers in a variety of probability distributions [1]."
   ]
  },
  {
   "cell_type": "markdown",
   "metadata": {},
   "source": [
    "Using a good choice of random seed is especially important in the field of computer security [10]. The seed method performs an operation on a specific value [11]. Usually this number would be the last number generated [11]. The pseudo-random number generator usually seeds a value that will change each time the program is executed [11]. The method when started causes the generator to start at an arbitrary point in the random sequence [12]."
   ]
  },
  {
   "cell_type": "markdown",
   "metadata": {},
   "source": [
    "###### References:\n",
    "[1] https://docs.scipy.org/doc/numpy-1.15.1/reference/routines.random.html\n",
    "\n",
    "[2] McKinney, Wes. Python for Data Analysis. Data Wrangling with Pandas, Numpy, and iPython, O'Reilly, 2017.\n",
    "\n",
    "[3] Klein, Bernd. Python, Random Numbers and Probability, 2011-2018.\n",
    "https://www.python-course.eu/python_numpy_probability.php\n",
    "\n",
    "[4] Chi squared test in statisitcs https://en.wikipedia.org/wiki/Chi-squared_test\n",
    "\n",
    "[5] Exponential distribution https://en.wikipedia.org/wiki/Exponential_distribution\n",
    "\n",
    "[6] Exponential distribution / Negative Exponential: Definition. Examples\n",
    "https://www.statisticshowto.datasciencecentral.com/exponential-distribution/\n",
    "\n",
    "[7] Laplace distribution\n",
    "https://en.wikipedia.org/wiki/Laplace_distribution#Applications\n",
    "\n",
    "[8] Rayleigh distribution\n",
    "https://en.wikipedia.org/wiki/Rayleigh_distribution#Applications\n",
    "\n",
    "[9] Uniform distribution (continuous)\n",
    "https://en.wikipedia.org/wiki/Uniform_distribution_(continuous)#Uniformity\n",
    "\n",
    "[10] Random Seed\n",
    "https://en.wikipedia.org/wiki/Random_seed\n",
    "\n",
    "[11] Stack overflow explanation of the seed generator\n",
    "https://stackoverflow.com/questions/22639587/random-seed-what-does-it-do\n",
    "\n",
    "[12] Random Seed\n",
    "https://www.arduino.cc/reference/en/language/functions/random-numbers/randomseed/"
   ]
  },
  {
   "cell_type": "markdown",
   "metadata": {},
   "source": [
    "## End"
   ]
  }
 ],
 "metadata": {
  "kernelspec": {
   "display_name": "Python 3",
   "language": "python",
   "name": "python3"
  },
  "language_info": {
   "codemirror_mode": {
    "name": "ipython",
    "version": 3
   },
   "file_extension": ".py",
   "mimetype": "text/x-python",
   "name": "python",
   "nbconvert_exporter": "python",
   "pygments_lexer": "ipython3",
   "version": "3.6.5"
  }
 },
 "nbformat": 4,
 "nbformat_minor": 2
}
